{
 "cells": [
  {
   "cell_type": "markdown",
   "metadata": {},
   "source": [
    "# Gesture-Phase-Detection\n",
    "---\n",
    "\n",
    "https://archive.ics.uci.edu/ml/datasets/Gesture+Phase+Segmentation\n",
    "\n",
    "The dataset is composed by features extracted from 7 videos with people gesticulating, aiming at studying Gesture Phase Segmentation. \n",
    "Each video is represented by two files: a raw file, which contains the position of hands, wrists, head and spine of the user in each frame; and a processed file, which contains velocity and acceleration of hands and wrists. See the data set description for more information on the dataset.\n",
    "\n",
    "Raw files: 18 numeric attributes (double), a timestamp and a class attribute (nominal). \n",
    "Processed files: 32 numeric attributes (double) and a class attribute (nominal). \n",
    "A feature vector with up to 50 numeric attributes can be generated with the two files mentioned above."
   ]
  },
  {
   "cell_type": "code",
   "execution_count": 1,
   "metadata": {
    "collapsed": true
   },
   "outputs": [],
   "source": [
    "%matplotlib inline\n",
    "import pandas as pd\n",
    "import numpy as np\n",
    "from sklearn.cross_validation import train_test_split\n",
    "from sklearn import cross_validation, metrics\n",
    "from sklearn import preprocessing\n",
    "import matplotlib\n",
    "import matplotlib.pyplot as plt"
   ]
  },
  {
   "cell_type": "code",
   "execution_count": 2,
   "metadata": {
    "collapsed": false
   },
   "outputs": [],
   "source": [
    "# read .csv from provided dataset\n",
    "csv_filename1=\"a1_raw.csv\"\n",
    "csv_filename2=\"a1_va3.csv\"\n",
    "\n",
    "# df=pd.read_csv(csv_filename,index_col=0)\n",
    "df1=pd.read_csv(csv_filename1 , skiprows=[1,2,3,4])\n",
    "df2=pd.read_csv(csv_filename2)"
   ]
  },
  {
   "cell_type": "code",
   "execution_count": 3,
   "metadata": {
    "collapsed": false,
    "scrolled": false
   },
   "outputs": [
    {
     "data": {
      "text/html": [
       "<div>\n",
       "<table border=\"1\" class=\"dataframe\">\n",
       "  <thead>\n",
       "    <tr style=\"text-align: right;\">\n",
       "      <th></th>\n",
       "      <th>lhx</th>\n",
       "      <th>lhy</th>\n",
       "      <th>lhz</th>\n",
       "      <th>rhx</th>\n",
       "      <th>rhy</th>\n",
       "      <th>rhz</th>\n",
       "      <th>hx</th>\n",
       "      <th>hy</th>\n",
       "      <th>hz</th>\n",
       "      <th>sx</th>\n",
       "      <th>sy</th>\n",
       "      <th>sz</th>\n",
       "      <th>lwx</th>\n",
       "      <th>lwy</th>\n",
       "      <th>lwz</th>\n",
       "      <th>rwx</th>\n",
       "      <th>rwy</th>\n",
       "      <th>rwz</th>\n",
       "      <th>timestamp</th>\n",
       "      <th>phase</th>\n",
       "    </tr>\n",
       "  </thead>\n",
       "  <tbody>\n",
       "    <tr>\n",
       "      <th>0</th>\n",
       "      <td>5.003160</td>\n",
       "      <td>4.278530</td>\n",
       "      <td>1.542866</td>\n",
       "      <td>4.985812</td>\n",
       "      <td>4.182155</td>\n",
       "      <td>1.520330</td>\n",
       "      <td>5.037557</td>\n",
       "      <td>1.619226</td>\n",
       "      <td>1.778925</td>\n",
       "      <td>5.052367</td>\n",
       "      <td>4.225485</td>\n",
       "      <td>1.775536</td>\n",
       "      <td>4.983912</td>\n",
       "      <td>4.296833</td>\n",
       "      <td>1.569889</td>\n",
       "      <td>5.193762</td>\n",
       "      <td>4.335417</td>\n",
       "      <td>1.560144</td>\n",
       "      <td>5702167</td>\n",
       "      <td>Rest</td>\n",
       "    </tr>\n",
       "    <tr>\n",
       "      <th>1</th>\n",
       "      <td>5.064488</td>\n",
       "      <td>4.290401</td>\n",
       "      <td>1.542146</td>\n",
       "      <td>4.955739</td>\n",
       "      <td>4.163175</td>\n",
       "      <td>1.511876</td>\n",
       "      <td>5.037724</td>\n",
       "      <td>1.618397</td>\n",
       "      <td>1.779722</td>\n",
       "      <td>5.045395</td>\n",
       "      <td>4.223284</td>\n",
       "      <td>1.777401</td>\n",
       "      <td>5.000410</td>\n",
       "      <td>4.301358</td>\n",
       "      <td>1.566544</td>\n",
       "      <td>5.164159</td>\n",
       "      <td>4.313107</td>\n",
       "      <td>1.552097</td>\n",
       "      <td>5702307</td>\n",
       "      <td>Rest</td>\n",
       "    </tr>\n",
       "    <tr>\n",
       "      <th>2</th>\n",
       "      <td>5.067825</td>\n",
       "      <td>4.290883</td>\n",
       "      <td>1.542058</td>\n",
       "      <td>4.928284</td>\n",
       "      <td>4.157637</td>\n",
       "      <td>1.511306</td>\n",
       "      <td>5.038332</td>\n",
       "      <td>1.618043</td>\n",
       "      <td>1.780080</td>\n",
       "      <td>5.045374</td>\n",
       "      <td>4.223690</td>\n",
       "      <td>1.777571</td>\n",
       "      <td>5.001656</td>\n",
       "      <td>4.299812</td>\n",
       "      <td>1.566537</td>\n",
       "      <td>5.136817</td>\n",
       "      <td>4.307087</td>\n",
       "      <td>1.551576</td>\n",
       "      <td>5702338</td>\n",
       "      <td>Rest</td>\n",
       "    </tr>\n",
       "    <tr>\n",
       "      <th>3</th>\n",
       "      <td>5.070332</td>\n",
       "      <td>4.290677</td>\n",
       "      <td>1.541985</td>\n",
       "      <td>4.916637</td>\n",
       "      <td>4.151067</td>\n",
       "      <td>1.510510</td>\n",
       "      <td>5.038742</td>\n",
       "      <td>1.618044</td>\n",
       "      <td>1.780114</td>\n",
       "      <td>5.045767</td>\n",
       "      <td>4.224827</td>\n",
       "      <td>1.777669</td>\n",
       "      <td>5.002672</td>\n",
       "      <td>4.298810</td>\n",
       "      <td>1.566489</td>\n",
       "      <td>5.125220</td>\n",
       "      <td>4.300282</td>\n",
       "      <td>1.550805</td>\n",
       "      <td>5702370</td>\n",
       "      <td>Rest</td>\n",
       "    </tr>\n",
       "    <tr>\n",
       "      <th>4</th>\n",
       "      <td>5.071611</td>\n",
       "      <td>4.290927</td>\n",
       "      <td>1.542046</td>\n",
       "      <td>4.906132</td>\n",
       "      <td>4.143034</td>\n",
       "      <td>1.509449</td>\n",
       "      <td>5.042224</td>\n",
       "      <td>1.618561</td>\n",
       "      <td>1.780209</td>\n",
       "      <td>5.047422</td>\n",
       "      <td>4.223671</td>\n",
       "      <td>1.778054</td>\n",
       "      <td>5.012298</td>\n",
       "      <td>4.298582</td>\n",
       "      <td>1.565061</td>\n",
       "      <td>5.114789</td>\n",
       "      <td>4.292008</td>\n",
       "      <td>1.549765</td>\n",
       "      <td>5702432</td>\n",
       "      <td>Rest</td>\n",
       "    </tr>\n",
       "  </tbody>\n",
       "</table>\n",
       "</div>"
      ],
      "text/plain": [
       "        lhx       lhy       lhz       rhx       rhy       rhz        hx  \\\n",
       "0  5.003160  4.278530  1.542866  4.985812  4.182155  1.520330  5.037557   \n",
       "1  5.064488  4.290401  1.542146  4.955739  4.163175  1.511876  5.037724   \n",
       "2  5.067825  4.290883  1.542058  4.928284  4.157637  1.511306  5.038332   \n",
       "3  5.070332  4.290677  1.541985  4.916637  4.151067  1.510510  5.038742   \n",
       "4  5.071611  4.290927  1.542046  4.906132  4.143034  1.509449  5.042224   \n",
       "\n",
       "         hy        hz        sx        sy        sz       lwx       lwy  \\\n",
       "0  1.619226  1.778925  5.052367  4.225485  1.775536  4.983912  4.296833   \n",
       "1  1.618397  1.779722  5.045395  4.223284  1.777401  5.000410  4.301358   \n",
       "2  1.618043  1.780080  5.045374  4.223690  1.777571  5.001656  4.299812   \n",
       "3  1.618044  1.780114  5.045767  4.224827  1.777669  5.002672  4.298810   \n",
       "4  1.618561  1.780209  5.047422  4.223671  1.778054  5.012298  4.298582   \n",
       "\n",
       "        lwz       rwx       rwy       rwz  timestamp phase  \n",
       "0  1.569889  5.193762  4.335417  1.560144    5702167  Rest  \n",
       "1  1.566544  5.164159  4.313107  1.552097    5702307  Rest  \n",
       "2  1.566537  5.136817  4.307087  1.551576    5702338  Rest  \n",
       "3  1.566489  5.125220  4.300282  1.550805    5702370  Rest  \n",
       "4  1.565061  5.114789  4.292008  1.549765    5702432  Rest  "
      ]
     },
     "execution_count": 3,
     "metadata": {},
     "output_type": "execute_result"
    }
   ],
   "source": [
    "df1.head()"
   ]
  },
  {
   "cell_type": "code",
   "execution_count": 4,
   "metadata": {
    "collapsed": false
   },
   "outputs": [
    {
     "data": {
      "text/plain": [
       "(1743, 20)"
      ]
     },
     "execution_count": 4,
     "metadata": {},
     "output_type": "execute_result"
    }
   ],
   "source": [
    "df1.shape"
   ]
  },
  {
   "cell_type": "code",
   "execution_count": 5,
   "metadata": {
    "collapsed": false
   },
   "outputs": [
    {
     "data": {
      "text/plain": [
       "array(['Rest', 'Preparation', 'Stroke', 'Hold', 'Retraction'], dtype=object)"
      ]
     },
     "execution_count": 5,
     "metadata": {},
     "output_type": "execute_result"
    }
   ],
   "source": [
    "df1['phase'].unique()"
   ]
  },
  {
   "cell_type": "code",
   "execution_count": 6,
   "metadata": {
    "collapsed": true
   },
   "outputs": [],
   "source": [
    "from sklearn.preprocessing import LabelEncoder\n",
    "le = LabelEncoder()\n",
    "df1['phase'] = le.fit_transform(df1['phase'])"
   ]
  },
  {
   "cell_type": "code",
   "execution_count": 7,
   "metadata": {
    "collapsed": false
   },
   "outputs": [
    {
     "data": {
      "text/plain": [
       "array([2, 1, 4, 0, 3], dtype=int64)"
      ]
     },
     "execution_count": 7,
     "metadata": {},
     "output_type": "execute_result"
    }
   ],
   "source": [
    "df1['phase'].unique()"
   ]
  },
  {
   "cell_type": "code",
   "execution_count": 8,
   "metadata": {
    "collapsed": false,
    "scrolled": true
   },
   "outputs": [
    {
     "data": {
      "text/html": [
       "<div>\n",
       "<table border=\"1\" class=\"dataframe\">\n",
       "  <thead>\n",
       "    <tr style=\"text-align: right;\">\n",
       "      <th></th>\n",
       "      <th>1</th>\n",
       "      <th>2</th>\n",
       "      <th>3</th>\n",
       "      <th>4</th>\n",
       "      <th>5</th>\n",
       "      <th>6</th>\n",
       "      <th>7</th>\n",
       "      <th>8</th>\n",
       "      <th>9</th>\n",
       "      <th>10</th>\n",
       "      <th>...</th>\n",
       "      <th>24</th>\n",
       "      <th>25</th>\n",
       "      <th>26</th>\n",
       "      <th>27</th>\n",
       "      <th>28</th>\n",
       "      <th>29</th>\n",
       "      <th>30</th>\n",
       "      <th>31</th>\n",
       "      <th>32</th>\n",
       "      <th>Phase</th>\n",
       "    </tr>\n",
       "  </thead>\n",
       "  <tbody>\n",
       "    <tr>\n",
       "      <th>0</th>\n",
       "      <td>-0.005009</td>\n",
       "      <td>-0.000964</td>\n",
       "      <td>0.000573</td>\n",
       "      <td>0.008623</td>\n",
       "      <td>0.005667</td>\n",
       "      <td>0.001302</td>\n",
       "      <td>-0.000631</td>\n",
       "      <td>0.000130</td>\n",
       "      <td>-0.000048</td>\n",
       "      <td>0.007762</td>\n",
       "      <td>...</td>\n",
       "      <td>1.880800e-04</td>\n",
       "      <td>0.005133</td>\n",
       "      <td>0.010400</td>\n",
       "      <td>0.000646</td>\n",
       "      <td>0.007871</td>\n",
       "      <td>0.004631</td>\n",
       "      <td>0.000963</td>\n",
       "      <td>0.000092</td>\n",
       "      <td>0.000438</td>\n",
       "      <td>D</td>\n",
       "    </tr>\n",
       "    <tr>\n",
       "      <th>1</th>\n",
       "      <td>0.004905</td>\n",
       "      <td>0.001209</td>\n",
       "      <td>-0.000649</td>\n",
       "      <td>0.004737</td>\n",
       "      <td>0.003166</td>\n",
       "      <td>0.000819</td>\n",
       "      <td>-0.000572</td>\n",
       "      <td>-0.000015</td>\n",
       "      <td>0.000023</td>\n",
       "      <td>0.002706</td>\n",
       "      <td>...</td>\n",
       "      <td>-7.500000e-07</td>\n",
       "      <td>0.005093</td>\n",
       "      <td>0.005756</td>\n",
       "      <td>0.000573</td>\n",
       "      <td>0.003459</td>\n",
       "      <td>0.000730</td>\n",
       "      <td>0.000332</td>\n",
       "      <td>0.000012</td>\n",
       "      <td>0.000433</td>\n",
       "      <td>D</td>\n",
       "    </tr>\n",
       "    <tr>\n",
       "      <th>2</th>\n",
       "      <td>-0.002393</td>\n",
       "      <td>-0.000216</td>\n",
       "      <td>0.000136</td>\n",
       "      <td>0.003028</td>\n",
       "      <td>0.001212</td>\n",
       "      <td>0.000336</td>\n",
       "      <td>-0.000449</td>\n",
       "      <td>0.000017</td>\n",
       "      <td>0.000047</td>\n",
       "      <td>0.002868</td>\n",
       "      <td>...</td>\n",
       "      <td>-3.920000e-05</td>\n",
       "      <td>0.002406</td>\n",
       "      <td>0.003279</td>\n",
       "      <td>0.000452</td>\n",
       "      <td>0.003261</td>\n",
       "      <td>0.002412</td>\n",
       "      <td>0.000852</td>\n",
       "      <td>0.000042</td>\n",
       "      <td>0.000202</td>\n",
       "      <td>D</td>\n",
       "    </tr>\n",
       "    <tr>\n",
       "      <th>3</th>\n",
       "      <td>-0.001394</td>\n",
       "      <td>-0.000242</td>\n",
       "      <td>0.000056</td>\n",
       "      <td>0.001182</td>\n",
       "      <td>0.000575</td>\n",
       "      <td>0.000225</td>\n",
       "      <td>-0.000479</td>\n",
       "      <td>-0.000050</td>\n",
       "      <td>0.000104</td>\n",
       "      <td>0.001171</td>\n",
       "      <td>...</td>\n",
       "      <td>-3.184000e-05</td>\n",
       "      <td>0.001416</td>\n",
       "      <td>0.001334</td>\n",
       "      <td>0.000493</td>\n",
       "      <td>0.001358</td>\n",
       "      <td>0.000313</td>\n",
       "      <td>0.000611</td>\n",
       "      <td>0.000029</td>\n",
       "      <td>0.000596</td>\n",
       "      <td>D</td>\n",
       "    </tr>\n",
       "    <tr>\n",
       "      <th>4</th>\n",
       "      <td>-0.000156</td>\n",
       "      <td>-0.000004</td>\n",
       "      <td>0.000023</td>\n",
       "      <td>0.001585</td>\n",
       "      <td>0.000630</td>\n",
       "      <td>0.000094</td>\n",
       "      <td>-0.000303</td>\n",
       "      <td>0.000097</td>\n",
       "      <td>0.000065</td>\n",
       "      <td>0.001579</td>\n",
       "      <td>...</td>\n",
       "      <td>-2.015000e-05</td>\n",
       "      <td>0.000158</td>\n",
       "      <td>0.001709</td>\n",
       "      <td>0.000325</td>\n",
       "      <td>0.001713</td>\n",
       "      <td>0.000203</td>\n",
       "      <td>0.000069</td>\n",
       "      <td>0.000038</td>\n",
       "      <td>0.000069</td>\n",
       "      <td>D</td>\n",
       "    </tr>\n",
       "  </tbody>\n",
       "</table>\n",
       "<p>5 rows × 33 columns</p>\n",
       "</div>"
      ],
      "text/plain": [
       "          1         2         3         4         5         6         7  \\\n",
       "0 -0.005009 -0.000964  0.000573  0.008623  0.005667  0.001302 -0.000631   \n",
       "1  0.004905  0.001209 -0.000649  0.004737  0.003166  0.000819 -0.000572   \n",
       "2 -0.002393 -0.000216  0.000136  0.003028  0.001212  0.000336 -0.000449   \n",
       "3 -0.001394 -0.000242  0.000056  0.001182  0.000575  0.000225 -0.000479   \n",
       "4 -0.000156 -0.000004  0.000023  0.001585  0.000630  0.000094 -0.000303   \n",
       "\n",
       "          8         9        10  ...              24        25        26  \\\n",
       "0  0.000130 -0.000048  0.007762  ...    1.880800e-04  0.005133  0.010400   \n",
       "1 -0.000015  0.000023  0.002706  ...   -7.500000e-07  0.005093  0.005756   \n",
       "2  0.000017  0.000047  0.002868  ...   -3.920000e-05  0.002406  0.003279   \n",
       "3 -0.000050  0.000104  0.001171  ...   -3.184000e-05  0.001416  0.001334   \n",
       "4  0.000097  0.000065  0.001579  ...   -2.015000e-05  0.000158  0.001709   \n",
       "\n",
       "         27        28        29        30        31        32  Phase  \n",
       "0  0.000646  0.007871  0.004631  0.000963  0.000092  0.000438      D  \n",
       "1  0.000573  0.003459  0.000730  0.000332  0.000012  0.000433      D  \n",
       "2  0.000452  0.003261  0.002412  0.000852  0.000042  0.000202      D  \n",
       "3  0.000493  0.001358  0.000313  0.000611  0.000029  0.000596      D  \n",
       "4  0.000325  0.001713  0.000203  0.000069  0.000038  0.000069      D  \n",
       "\n",
       "[5 rows x 33 columns]"
      ]
     },
     "execution_count": 8,
     "metadata": {},
     "output_type": "execute_result"
    }
   ],
   "source": [
    "df2.head()"
   ]
  },
  {
   "cell_type": "code",
   "execution_count": 9,
   "metadata": {
    "collapsed": false
   },
   "outputs": [
    {
     "data": {
      "text/plain": [
       "(1743, 33)"
      ]
     },
     "execution_count": 9,
     "metadata": {},
     "output_type": "execute_result"
    }
   ],
   "source": [
    "df2.shape"
   ]
  },
  {
   "cell_type": "code",
   "execution_count": 10,
   "metadata": {
    "collapsed": false
   },
   "outputs": [
    {
     "data": {
      "text/plain": [
       "array(['D', 'P', 'S', 'H', 'R'], dtype=object)"
      ]
     },
     "execution_count": 10,
     "metadata": {},
     "output_type": "execute_result"
    }
   ],
   "source": [
    "df2['Phase'].unique()"
   ]
  },
  {
   "cell_type": "code",
   "execution_count": 11,
   "metadata": {
    "collapsed": false,
    "scrolled": true
   },
   "outputs": [
    {
     "data": {
      "text/plain": [
       "Index([u'lhx', u'lhy', u'lhz', u'rhx', u'rhy', u'rhz', u'hx', u'hy', u'hz',\n",
       "       u'sx', u'sy', u'sz', u'lwx', u'lwy', u'lwz', u'rwx', u'rwy', u'rwz',\n",
       "       u'timestamp', u'phase'],\n",
       "      dtype='object')"
      ]
     },
     "execution_count": 11,
     "metadata": {},
     "output_type": "execute_result"
    }
   ],
   "source": [
    "df1.columns"
   ]
  },
  {
   "cell_type": "code",
   "execution_count": 12,
   "metadata": {
    "collapsed": false
   },
   "outputs": [
    {
     "data": {
      "text/plain": [
       "Index([u'1', u'2', u'3', u'4', u'5', u'6', u'7', u'8', u'9', u'10', u'11',\n",
       "       u'12', u'13', u'14', u'15', u'16', u'17', u'18', u'19', u'20', u'21',\n",
       "       u'22', u'23', u'24', u'25', u'26', u'27', u'28', u'29', u'30', u'31',\n",
       "       u'32', u'Phase'],\n",
       "      dtype='object')"
      ]
     },
     "execution_count": 12,
     "metadata": {},
     "output_type": "execute_result"
    }
   ],
   "source": [
    "df2.columns"
   ]
  },
  {
   "cell_type": "code",
   "execution_count": 13,
   "metadata": {
    "collapsed": false
   },
   "outputs": [],
   "source": [
    "df2.rename(columns={'Phase': 'phase'}, inplace=True)"
   ]
  },
  {
   "cell_type": "code",
   "execution_count": 14,
   "metadata": {
    "collapsed": false
   },
   "outputs": [
    {
     "data": {
      "text/plain": [
       "array([2, 1, 4, 0, 3], dtype=int64)"
      ]
     },
     "execution_count": 14,
     "metadata": {},
     "output_type": "execute_result"
    }
   ],
   "source": [
    "df1.phase.unique()"
   ]
  },
  {
   "cell_type": "code",
   "execution_count": 15,
   "metadata": {
    "collapsed": false
   },
   "outputs": [
    {
     "data": {
      "text/plain": [
       "array(['D', 'P', 'S', 'H', 'R'], dtype=object)"
      ]
     },
     "execution_count": 15,
     "metadata": {},
     "output_type": "execute_result"
    }
   ],
   "source": [
    "df2.phase.unique()"
   ]
  },
  {
   "cell_type": "code",
   "execution_count": 16,
   "metadata": {
    "collapsed": true
   },
   "outputs": [],
   "source": [
    "a = df2.phase == 'D'\n",
    "b = df2.phase == 'P'\n",
    "c = df2.phase == 'S'\n",
    "d = df2.phase == 'H'\n",
    "e = df2.phase == 'R'\n",
    "\n",
    "df2.loc[a,'phase'] = 'Rest'\n",
    "df2.loc[b,'phase'] = 'Preparation'\n",
    "df2.loc[c,'phase'] = 'Stroke'\n",
    "df2.loc[d,'phase'] = 'Hold'\n",
    "df2.loc[e,'phase'] = 'Retraction'"
   ]
  },
  {
   "cell_type": "code",
   "execution_count": 17,
   "metadata": {
    "collapsed": false
   },
   "outputs": [
    {
     "data": {
      "text/html": [
       "<div>\n",
       "<table border=\"1\" class=\"dataframe\">\n",
       "  <thead>\n",
       "    <tr style=\"text-align: right;\">\n",
       "      <th></th>\n",
       "      <th>1</th>\n",
       "      <th>2</th>\n",
       "      <th>3</th>\n",
       "      <th>4</th>\n",
       "      <th>5</th>\n",
       "      <th>6</th>\n",
       "      <th>7</th>\n",
       "      <th>8</th>\n",
       "      <th>9</th>\n",
       "      <th>10</th>\n",
       "      <th>...</th>\n",
       "      <th>24</th>\n",
       "      <th>25</th>\n",
       "      <th>26</th>\n",
       "      <th>27</th>\n",
       "      <th>28</th>\n",
       "      <th>29</th>\n",
       "      <th>30</th>\n",
       "      <th>31</th>\n",
       "      <th>32</th>\n",
       "      <th>phase</th>\n",
       "    </tr>\n",
       "  </thead>\n",
       "  <tbody>\n",
       "    <tr>\n",
       "      <th>0</th>\n",
       "      <td>-0.005009</td>\n",
       "      <td>-0.000964</td>\n",
       "      <td>0.000573</td>\n",
       "      <td>0.008623</td>\n",
       "      <td>0.005667</td>\n",
       "      <td>0.001302</td>\n",
       "      <td>-0.000631</td>\n",
       "      <td>0.000130</td>\n",
       "      <td>-0.000048</td>\n",
       "      <td>0.007762</td>\n",
       "      <td>...</td>\n",
       "      <td>1.880800e-04</td>\n",
       "      <td>0.005133</td>\n",
       "      <td>0.010400</td>\n",
       "      <td>0.000646</td>\n",
       "      <td>0.007871</td>\n",
       "      <td>0.004631</td>\n",
       "      <td>0.000963</td>\n",
       "      <td>0.000092</td>\n",
       "      <td>0.000438</td>\n",
       "      <td>Rest</td>\n",
       "    </tr>\n",
       "    <tr>\n",
       "      <th>1</th>\n",
       "      <td>0.004905</td>\n",
       "      <td>0.001209</td>\n",
       "      <td>-0.000649</td>\n",
       "      <td>0.004737</td>\n",
       "      <td>0.003166</td>\n",
       "      <td>0.000819</td>\n",
       "      <td>-0.000572</td>\n",
       "      <td>-0.000015</td>\n",
       "      <td>0.000023</td>\n",
       "      <td>0.002706</td>\n",
       "      <td>...</td>\n",
       "      <td>-7.500000e-07</td>\n",
       "      <td>0.005093</td>\n",
       "      <td>0.005756</td>\n",
       "      <td>0.000573</td>\n",
       "      <td>0.003459</td>\n",
       "      <td>0.000730</td>\n",
       "      <td>0.000332</td>\n",
       "      <td>0.000012</td>\n",
       "      <td>0.000433</td>\n",
       "      <td>Rest</td>\n",
       "    </tr>\n",
       "    <tr>\n",
       "      <th>2</th>\n",
       "      <td>-0.002393</td>\n",
       "      <td>-0.000216</td>\n",
       "      <td>0.000136</td>\n",
       "      <td>0.003028</td>\n",
       "      <td>0.001212</td>\n",
       "      <td>0.000336</td>\n",
       "      <td>-0.000449</td>\n",
       "      <td>0.000017</td>\n",
       "      <td>0.000047</td>\n",
       "      <td>0.002868</td>\n",
       "      <td>...</td>\n",
       "      <td>-3.920000e-05</td>\n",
       "      <td>0.002406</td>\n",
       "      <td>0.003279</td>\n",
       "      <td>0.000452</td>\n",
       "      <td>0.003261</td>\n",
       "      <td>0.002412</td>\n",
       "      <td>0.000852</td>\n",
       "      <td>0.000042</td>\n",
       "      <td>0.000202</td>\n",
       "      <td>Rest</td>\n",
       "    </tr>\n",
       "  </tbody>\n",
       "</table>\n",
       "<p>3 rows × 33 columns</p>\n",
       "</div>"
      ],
      "text/plain": [
       "          1         2         3         4         5         6         7  \\\n",
       "0 -0.005009 -0.000964  0.000573  0.008623  0.005667  0.001302 -0.000631   \n",
       "1  0.004905  0.001209 -0.000649  0.004737  0.003166  0.000819 -0.000572   \n",
       "2 -0.002393 -0.000216  0.000136  0.003028  0.001212  0.000336 -0.000449   \n",
       "\n",
       "          8         9        10  ...              24        25        26  \\\n",
       "0  0.000130 -0.000048  0.007762  ...    1.880800e-04  0.005133  0.010400   \n",
       "1 -0.000015  0.000023  0.002706  ...   -7.500000e-07  0.005093  0.005756   \n",
       "2  0.000017  0.000047  0.002868  ...   -3.920000e-05  0.002406  0.003279   \n",
       "\n",
       "         27        28        29        30        31        32  phase  \n",
       "0  0.000646  0.007871  0.004631  0.000963  0.000092  0.000438   Rest  \n",
       "1  0.000573  0.003459  0.000730  0.000332  0.000012  0.000433   Rest  \n",
       "2  0.000452  0.003261  0.002412  0.000852  0.000042  0.000202   Rest  \n",
       "\n",
       "[3 rows x 33 columns]"
      ]
     },
     "execution_count": 17,
     "metadata": {},
     "output_type": "execute_result"
    }
   ],
   "source": [
    "df2.head(3)"
   ]
  },
  {
   "cell_type": "code",
   "execution_count": 18,
   "metadata": {
    "collapsed": false
   },
   "outputs": [
    {
     "data": {
      "text/plain": [
       "array(['Rest', 'Preparation', 'Stroke', 'Hold', 'Retraction'], dtype=object)"
      ]
     },
     "execution_count": 18,
     "metadata": {},
     "output_type": "execute_result"
    }
   ],
   "source": [
    "df2.phase.unique()"
   ]
  },
  {
   "cell_type": "code",
   "execution_count": 19,
   "metadata": {
    "collapsed": true
   },
   "outputs": [],
   "source": [
    "from sklearn.preprocessing import LabelEncoder\n",
    "le = LabelEncoder()\n",
    "df2['phase'] = le.fit_transform(df2['phase'])"
   ]
  },
  {
   "cell_type": "code",
   "execution_count": 20,
   "metadata": {
    "collapsed": false
   },
   "outputs": [
    {
     "data": {
      "text/plain": [
       "array([2, 1, 4, 0, 3], dtype=int64)"
      ]
     },
     "execution_count": 20,
     "metadata": {},
     "output_type": "execute_result"
    }
   ],
   "source": [
    "df2.phase.unique()"
   ]
  },
  {
   "cell_type": "code",
   "execution_count": 21,
   "metadata": {
    "collapsed": false
   },
   "outputs": [
    {
     "data": {
      "text/html": [
       "<div>\n",
       "<table border=\"1\" class=\"dataframe\">\n",
       "  <thead>\n",
       "    <tr style=\"text-align: right;\">\n",
       "      <th></th>\n",
       "      <th>lhx</th>\n",
       "      <th>lhy</th>\n",
       "      <th>lhz</th>\n",
       "      <th>rhx</th>\n",
       "      <th>rhy</th>\n",
       "      <th>rhz</th>\n",
       "      <th>hx</th>\n",
       "      <th>hy</th>\n",
       "      <th>hz</th>\n",
       "      <th>sx</th>\n",
       "      <th>sy</th>\n",
       "      <th>sz</th>\n",
       "      <th>lwx</th>\n",
       "      <th>lwy</th>\n",
       "      <th>lwz</th>\n",
       "      <th>rwx</th>\n",
       "      <th>rwy</th>\n",
       "      <th>rwz</th>\n",
       "      <th>timestamp</th>\n",
       "    </tr>\n",
       "    <tr>\n",
       "      <th>phase</th>\n",
       "      <th></th>\n",
       "      <th></th>\n",
       "      <th></th>\n",
       "      <th></th>\n",
       "      <th></th>\n",
       "      <th></th>\n",
       "      <th></th>\n",
       "      <th></th>\n",
       "      <th></th>\n",
       "      <th></th>\n",
       "      <th></th>\n",
       "      <th></th>\n",
       "      <th></th>\n",
       "      <th></th>\n",
       "      <th></th>\n",
       "      <th></th>\n",
       "      <th></th>\n",
       "      <th></th>\n",
       "      <th></th>\n",
       "    </tr>\n",
       "  </thead>\n",
       "  <tbody>\n",
       "    <tr>\n",
       "      <th>0</th>\n",
       "      <td>39</td>\n",
       "      <td>39</td>\n",
       "      <td>39</td>\n",
       "      <td>39</td>\n",
       "      <td>39</td>\n",
       "      <td>39</td>\n",
       "      <td>39</td>\n",
       "      <td>39</td>\n",
       "      <td>39</td>\n",
       "      <td>39</td>\n",
       "      <td>39</td>\n",
       "      <td>39</td>\n",
       "      <td>39</td>\n",
       "      <td>39</td>\n",
       "      <td>39</td>\n",
       "      <td>39</td>\n",
       "      <td>39</td>\n",
       "      <td>39</td>\n",
       "      <td>39</td>\n",
       "    </tr>\n",
       "    <tr>\n",
       "      <th>1</th>\n",
       "      <td>163</td>\n",
       "      <td>163</td>\n",
       "      <td>163</td>\n",
       "      <td>163</td>\n",
       "      <td>163</td>\n",
       "      <td>163</td>\n",
       "      <td>163</td>\n",
       "      <td>163</td>\n",
       "      <td>163</td>\n",
       "      <td>163</td>\n",
       "      <td>163</td>\n",
       "      <td>163</td>\n",
       "      <td>163</td>\n",
       "      <td>163</td>\n",
       "      <td>163</td>\n",
       "      <td>163</td>\n",
       "      <td>163</td>\n",
       "      <td>163</td>\n",
       "      <td>163</td>\n",
       "    </tr>\n",
       "    <tr>\n",
       "      <th>2</th>\n",
       "      <td>694</td>\n",
       "      <td>694</td>\n",
       "      <td>694</td>\n",
       "      <td>694</td>\n",
       "      <td>694</td>\n",
       "      <td>694</td>\n",
       "      <td>694</td>\n",
       "      <td>694</td>\n",
       "      <td>694</td>\n",
       "      <td>694</td>\n",
       "      <td>694</td>\n",
       "      <td>694</td>\n",
       "      <td>694</td>\n",
       "      <td>694</td>\n",
       "      <td>694</td>\n",
       "      <td>694</td>\n",
       "      <td>694</td>\n",
       "      <td>694</td>\n",
       "      <td>694</td>\n",
       "    </tr>\n",
       "    <tr>\n",
       "      <th>3</th>\n",
       "      <td>191</td>\n",
       "      <td>191</td>\n",
       "      <td>191</td>\n",
       "      <td>191</td>\n",
       "      <td>191</td>\n",
       "      <td>191</td>\n",
       "      <td>191</td>\n",
       "      <td>191</td>\n",
       "      <td>191</td>\n",
       "      <td>191</td>\n",
       "      <td>191</td>\n",
       "      <td>191</td>\n",
       "      <td>191</td>\n",
       "      <td>191</td>\n",
       "      <td>191</td>\n",
       "      <td>191</td>\n",
       "      <td>191</td>\n",
       "      <td>191</td>\n",
       "      <td>191</td>\n",
       "    </tr>\n",
       "    <tr>\n",
       "      <th>4</th>\n",
       "      <td>656</td>\n",
       "      <td>656</td>\n",
       "      <td>656</td>\n",
       "      <td>656</td>\n",
       "      <td>656</td>\n",
       "      <td>656</td>\n",
       "      <td>656</td>\n",
       "      <td>656</td>\n",
       "      <td>656</td>\n",
       "      <td>656</td>\n",
       "      <td>656</td>\n",
       "      <td>656</td>\n",
       "      <td>656</td>\n",
       "      <td>656</td>\n",
       "      <td>656</td>\n",
       "      <td>656</td>\n",
       "      <td>656</td>\n",
       "      <td>656</td>\n",
       "      <td>656</td>\n",
       "    </tr>\n",
       "  </tbody>\n",
       "</table>\n",
       "</div>"
      ],
      "text/plain": [
       "       lhx  lhy  lhz  rhx  rhy  rhz   hx   hy   hz   sx   sy   sz  lwx  lwy  \\\n",
       "phase                                                                         \n",
       "0       39   39   39   39   39   39   39   39   39   39   39   39   39   39   \n",
       "1      163  163  163  163  163  163  163  163  163  163  163  163  163  163   \n",
       "2      694  694  694  694  694  694  694  694  694  694  694  694  694  694   \n",
       "3      191  191  191  191  191  191  191  191  191  191  191  191  191  191   \n",
       "4      656  656  656  656  656  656  656  656  656  656  656  656  656  656   \n",
       "\n",
       "       lwz  rwx  rwy  rwz  timestamp  \n",
       "phase                                 \n",
       "0       39   39   39   39         39  \n",
       "1      163  163  163  163        163  \n",
       "2      694  694  694  694        694  \n",
       "3      191  191  191  191        191  \n",
       "4      656  656  656  656        656  "
      ]
     },
     "execution_count": 21,
     "metadata": {},
     "output_type": "execute_result"
    }
   ],
   "source": [
    "df1.groupby('phase').count()"
   ]
  },
  {
   "cell_type": "code",
   "execution_count": 22,
   "metadata": {
    "collapsed": false
   },
   "outputs": [
    {
     "data": {
      "text/html": [
       "<div>\n",
       "<table border=\"1\" class=\"dataframe\">\n",
       "  <thead>\n",
       "    <tr style=\"text-align: right;\">\n",
       "      <th></th>\n",
       "      <th>1</th>\n",
       "      <th>2</th>\n",
       "      <th>3</th>\n",
       "      <th>4</th>\n",
       "      <th>5</th>\n",
       "      <th>6</th>\n",
       "      <th>7</th>\n",
       "      <th>8</th>\n",
       "      <th>9</th>\n",
       "      <th>10</th>\n",
       "      <th>...</th>\n",
       "      <th>23</th>\n",
       "      <th>24</th>\n",
       "      <th>25</th>\n",
       "      <th>26</th>\n",
       "      <th>27</th>\n",
       "      <th>28</th>\n",
       "      <th>29</th>\n",
       "      <th>30</th>\n",
       "      <th>31</th>\n",
       "      <th>32</th>\n",
       "    </tr>\n",
       "    <tr>\n",
       "      <th>phase</th>\n",
       "      <th></th>\n",
       "      <th></th>\n",
       "      <th></th>\n",
       "      <th></th>\n",
       "      <th></th>\n",
       "      <th></th>\n",
       "      <th></th>\n",
       "      <th></th>\n",
       "      <th></th>\n",
       "      <th></th>\n",
       "      <th></th>\n",
       "      <th></th>\n",
       "      <th></th>\n",
       "      <th></th>\n",
       "      <th></th>\n",
       "      <th></th>\n",
       "      <th></th>\n",
       "      <th></th>\n",
       "      <th></th>\n",
       "      <th></th>\n",
       "      <th></th>\n",
       "    </tr>\n",
       "  </thead>\n",
       "  <tbody>\n",
       "    <tr>\n",
       "      <th>0</th>\n",
       "      <td>39</td>\n",
       "      <td>39</td>\n",
       "      <td>39</td>\n",
       "      <td>39</td>\n",
       "      <td>39</td>\n",
       "      <td>39</td>\n",
       "      <td>39</td>\n",
       "      <td>39</td>\n",
       "      <td>39</td>\n",
       "      <td>39</td>\n",
       "      <td>...</td>\n",
       "      <td>39</td>\n",
       "      <td>39</td>\n",
       "      <td>39</td>\n",
       "      <td>39</td>\n",
       "      <td>39</td>\n",
       "      <td>39</td>\n",
       "      <td>39</td>\n",
       "      <td>39</td>\n",
       "      <td>39</td>\n",
       "      <td>39</td>\n",
       "    </tr>\n",
       "    <tr>\n",
       "      <th>1</th>\n",
       "      <td>163</td>\n",
       "      <td>163</td>\n",
       "      <td>163</td>\n",
       "      <td>163</td>\n",
       "      <td>163</td>\n",
       "      <td>163</td>\n",
       "      <td>163</td>\n",
       "      <td>163</td>\n",
       "      <td>163</td>\n",
       "      <td>163</td>\n",
       "      <td>...</td>\n",
       "      <td>163</td>\n",
       "      <td>163</td>\n",
       "      <td>163</td>\n",
       "      <td>163</td>\n",
       "      <td>163</td>\n",
       "      <td>163</td>\n",
       "      <td>163</td>\n",
       "      <td>163</td>\n",
       "      <td>163</td>\n",
       "      <td>163</td>\n",
       "    </tr>\n",
       "    <tr>\n",
       "      <th>2</th>\n",
       "      <td>694</td>\n",
       "      <td>694</td>\n",
       "      <td>694</td>\n",
       "      <td>694</td>\n",
       "      <td>694</td>\n",
       "      <td>694</td>\n",
       "      <td>694</td>\n",
       "      <td>694</td>\n",
       "      <td>694</td>\n",
       "      <td>694</td>\n",
       "      <td>...</td>\n",
       "      <td>694</td>\n",
       "      <td>694</td>\n",
       "      <td>694</td>\n",
       "      <td>694</td>\n",
       "      <td>694</td>\n",
       "      <td>694</td>\n",
       "      <td>694</td>\n",
       "      <td>694</td>\n",
       "      <td>694</td>\n",
       "      <td>694</td>\n",
       "    </tr>\n",
       "    <tr>\n",
       "      <th>3</th>\n",
       "      <td>191</td>\n",
       "      <td>191</td>\n",
       "      <td>191</td>\n",
       "      <td>191</td>\n",
       "      <td>191</td>\n",
       "      <td>191</td>\n",
       "      <td>191</td>\n",
       "      <td>191</td>\n",
       "      <td>191</td>\n",
       "      <td>191</td>\n",
       "      <td>...</td>\n",
       "      <td>191</td>\n",
       "      <td>191</td>\n",
       "      <td>191</td>\n",
       "      <td>191</td>\n",
       "      <td>191</td>\n",
       "      <td>191</td>\n",
       "      <td>191</td>\n",
       "      <td>191</td>\n",
       "      <td>191</td>\n",
       "      <td>191</td>\n",
       "    </tr>\n",
       "    <tr>\n",
       "      <th>4</th>\n",
       "      <td>656</td>\n",
       "      <td>656</td>\n",
       "      <td>656</td>\n",
       "      <td>656</td>\n",
       "      <td>656</td>\n",
       "      <td>656</td>\n",
       "      <td>656</td>\n",
       "      <td>656</td>\n",
       "      <td>656</td>\n",
       "      <td>656</td>\n",
       "      <td>...</td>\n",
       "      <td>656</td>\n",
       "      <td>656</td>\n",
       "      <td>656</td>\n",
       "      <td>656</td>\n",
       "      <td>656</td>\n",
       "      <td>656</td>\n",
       "      <td>656</td>\n",
       "      <td>656</td>\n",
       "      <td>656</td>\n",
       "      <td>656</td>\n",
       "    </tr>\n",
       "  </tbody>\n",
       "</table>\n",
       "<p>5 rows × 32 columns</p>\n",
       "</div>"
      ],
      "text/plain": [
       "         1    2    3    4    5    6    7    8    9   10 ...    23   24   25  \\\n",
       "phase                                                   ...                   \n",
       "0       39   39   39   39   39   39   39   39   39   39 ...    39   39   39   \n",
       "1      163  163  163  163  163  163  163  163  163  163 ...   163  163  163   \n",
       "2      694  694  694  694  694  694  694  694  694  694 ...   694  694  694   \n",
       "3      191  191  191  191  191  191  191  191  191  191 ...   191  191  191   \n",
       "4      656  656  656  656  656  656  656  656  656  656 ...   656  656  656   \n",
       "\n",
       "        26   27   28   29   30   31   32  \n",
       "phase                                     \n",
       "0       39   39   39   39   39   39   39  \n",
       "1      163  163  163  163  163  163  163  \n",
       "2      694  694  694  694  694  694  694  \n",
       "3      191  191  191  191  191  191  191  \n",
       "4      656  656  656  656  656  656  656  \n",
       "\n",
       "[5 rows x 32 columns]"
      ]
     },
     "execution_count": 22,
     "metadata": {},
     "output_type": "execute_result"
    }
   ],
   "source": [
    "df2.groupby('phase').count()"
   ]
  },
  {
   "cell_type": "code",
   "execution_count": 23,
   "metadata": {
    "collapsed": false
   },
   "outputs": [
    {
     "name": "stderr",
     "output_type": "stream",
     "text": [
      "C:\\Miniconda2\\lib\\site-packages\\ipykernel\\__main__.py:1: FutureWarning: sort(columns=....) is deprecated, use sort_values(by=.....)\n",
      "  if __name__ == '__main__':\n"
     ]
    }
   ],
   "source": [
    "df1.sort('phase',inplace=True)"
   ]
  },
  {
   "cell_type": "code",
   "execution_count": 24,
   "metadata": {
    "collapsed": false
   },
   "outputs": [
    {
     "name": "stderr",
     "output_type": "stream",
     "text": [
      "C:\\Miniconda2\\lib\\site-packages\\ipykernel\\__main__.py:1: FutureWarning: sort(columns=....) is deprecated, use sort_values(by=.....)\n",
      "  if __name__ == '__main__':\n"
     ]
    }
   ],
   "source": [
    "df2.sort('phase',inplace=True)"
   ]
  },
  {
   "cell_type": "code",
   "execution_count": 25,
   "metadata": {
    "collapsed": false
   },
   "outputs": [
    {
     "data": {
      "text/html": [
       "<div>\n",
       "<table border=\"1\" class=\"dataframe\">\n",
       "  <thead>\n",
       "    <tr style=\"text-align: right;\">\n",
       "      <th></th>\n",
       "      <th>1</th>\n",
       "      <th>2</th>\n",
       "      <th>3</th>\n",
       "      <th>4</th>\n",
       "      <th>5</th>\n",
       "      <th>6</th>\n",
       "      <th>7</th>\n",
       "      <th>8</th>\n",
       "      <th>9</th>\n",
       "      <th>10</th>\n",
       "      <th>...</th>\n",
       "      <th>24</th>\n",
       "      <th>25</th>\n",
       "      <th>26</th>\n",
       "      <th>27</th>\n",
       "      <th>28</th>\n",
       "      <th>29</th>\n",
       "      <th>30</th>\n",
       "      <th>31</th>\n",
       "      <th>32</th>\n",
       "      <th>phase</th>\n",
       "    </tr>\n",
       "  </thead>\n",
       "  <tbody>\n",
       "    <tr>\n",
       "      <th>1117</th>\n",
       "      <td>0.013652</td>\n",
       "      <td>-0.005854</td>\n",
       "      <td>-0.000167</td>\n",
       "      <td>0.007993</td>\n",
       "      <td>0.011719</td>\n",
       "      <td>-0.001821</td>\n",
       "      <td>0.011699</td>\n",
       "      <td>-0.006116</td>\n",
       "      <td>-0.000023</td>\n",
       "      <td>0.007367</td>\n",
       "      <td>...</td>\n",
       "      <td>-0.000594</td>\n",
       "      <td>0.014855</td>\n",
       "      <td>0.014302</td>\n",
       "      <td>0.013201</td>\n",
       "      <td>0.012085</td>\n",
       "      <td>0.004621</td>\n",
       "      <td>0.012173</td>\n",
       "      <td>0.004385</td>\n",
       "      <td>0.009172</td>\n",
       "      <td>4</td>\n",
       "    </tr>\n",
       "    <tr>\n",
       "      <th>1118</th>\n",
       "      <td>0.025679</td>\n",
       "      <td>0.029140</td>\n",
       "      <td>0.004168</td>\n",
       "      <td>0.034294</td>\n",
       "      <td>0.008579</td>\n",
       "      <td>0.001769</td>\n",
       "      <td>0.025674</td>\n",
       "      <td>0.029158</td>\n",
       "      <td>0.004169</td>\n",
       "      <td>0.017613</td>\n",
       "      <td>...</td>\n",
       "      <td>0.000532</td>\n",
       "      <td>0.039063</td>\n",
       "      <td>0.035395</td>\n",
       "      <td>0.039073</td>\n",
       "      <td>0.018241</td>\n",
       "      <td>0.012018</td>\n",
       "      <td>0.008623</td>\n",
       "      <td>0.012314</td>\n",
       "      <td>0.005680</td>\n",
       "      <td>4</td>\n",
       "    </tr>\n",
       "    <tr>\n",
       "      <th>1119</th>\n",
       "      <td>0.036604</td>\n",
       "      <td>0.044513</td>\n",
       "      <td>0.005200</td>\n",
       "      <td>0.032754</td>\n",
       "      <td>-0.018750</td>\n",
       "      <td>-0.000209</td>\n",
       "      <td>0.024677</td>\n",
       "      <td>0.029102</td>\n",
       "      <td>0.003881</td>\n",
       "      <td>0.026038</td>\n",
       "      <td>...</td>\n",
       "      <td>-0.000077</td>\n",
       "      <td>0.057864</td>\n",
       "      <td>0.037742</td>\n",
       "      <td>0.038353</td>\n",
       "      <td>0.028690</td>\n",
       "      <td>0.006093</td>\n",
       "      <td>0.008853</td>\n",
       "      <td>0.000335</td>\n",
       "      <td>0.003600</td>\n",
       "      <td>4</td>\n",
       "    </tr>\n",
       "    <tr>\n",
       "      <th>371</th>\n",
       "      <td>-0.000753</td>\n",
       "      <td>0.010647</td>\n",
       "      <td>-0.004304</td>\n",
       "      <td>0.005471</td>\n",
       "      <td>0.010892</td>\n",
       "      <td>-0.005108</td>\n",
       "      <td>0.003455</td>\n",
       "      <td>0.007538</td>\n",
       "      <td>-0.003794</td>\n",
       "      <td>0.001323</td>\n",
       "      <td>...</td>\n",
       "      <td>0.000180</td>\n",
       "      <td>0.011508</td>\n",
       "      <td>0.013216</td>\n",
       "      <td>0.009119</td>\n",
       "      <td>0.008922</td>\n",
       "      <td>0.005335</td>\n",
       "      <td>0.005696</td>\n",
       "      <td>0.004074</td>\n",
       "      <td>0.003962</td>\n",
       "      <td>4</td>\n",
       "    </tr>\n",
       "    <tr>\n",
       "      <th>871</th>\n",
       "      <td>-0.001645</td>\n",
       "      <td>0.001315</td>\n",
       "      <td>0.000080</td>\n",
       "      <td>0.010487</td>\n",
       "      <td>0.026691</td>\n",
       "      <td>-0.000251</td>\n",
       "      <td>-0.005443</td>\n",
       "      <td>-0.005227</td>\n",
       "      <td>0.000392</td>\n",
       "      <td>-0.007014</td>\n",
       "      <td>...</td>\n",
       "      <td>-0.000067</td>\n",
       "      <td>0.002108</td>\n",
       "      <td>0.028678</td>\n",
       "      <td>0.007557</td>\n",
       "      <td>0.017659</td>\n",
       "      <td>0.000165</td>\n",
       "      <td>0.001954</td>\n",
       "      <td>0.004185</td>\n",
       "      <td>0.004051</td>\n",
       "      <td>4</td>\n",
       "    </tr>\n",
       "  </tbody>\n",
       "</table>\n",
       "<p>5 rows × 33 columns</p>\n",
       "</div>"
      ],
      "text/plain": [
       "             1         2         3         4         5         6         7  \\\n",
       "1117  0.013652 -0.005854 -0.000167  0.007993  0.011719 -0.001821  0.011699   \n",
       "1118  0.025679  0.029140  0.004168  0.034294  0.008579  0.001769  0.025674   \n",
       "1119  0.036604  0.044513  0.005200  0.032754 -0.018750 -0.000209  0.024677   \n",
       "371  -0.000753  0.010647 -0.004304  0.005471  0.010892 -0.005108  0.003455   \n",
       "871  -0.001645  0.001315  0.000080  0.010487  0.026691 -0.000251 -0.005443   \n",
       "\n",
       "             8         9        10  ...          24        25        26  \\\n",
       "1117 -0.006116 -0.000023  0.007367  ...   -0.000594  0.014855  0.014302   \n",
       "1118  0.029158  0.004169  0.017613  ...    0.000532  0.039063  0.035395   \n",
       "1119  0.029102  0.003881  0.026038  ...   -0.000077  0.057864  0.037742   \n",
       "371   0.007538 -0.003794  0.001323  ...    0.000180  0.011508  0.013216   \n",
       "871  -0.005227  0.000392 -0.007014  ...   -0.000067  0.002108  0.028678   \n",
       "\n",
       "            27        28        29        30        31        32  phase  \n",
       "1117  0.013201  0.012085  0.004621  0.012173  0.004385  0.009172      4  \n",
       "1118  0.039073  0.018241  0.012018  0.008623  0.012314  0.005680      4  \n",
       "1119  0.038353  0.028690  0.006093  0.008853  0.000335  0.003600      4  \n",
       "371   0.009119  0.008922  0.005335  0.005696  0.004074  0.003962      4  \n",
       "871   0.007557  0.017659  0.000165  0.001954  0.004185  0.004051      4  \n",
       "\n",
       "[5 rows x 33 columns]"
      ]
     },
     "execution_count": 25,
     "metadata": {},
     "output_type": "execute_result"
    }
   ],
   "source": [
    "df2.tail()"
   ]
  },
  {
   "cell_type": "code",
   "execution_count": 26,
   "metadata": {
    "collapsed": false
   },
   "outputs": [],
   "source": [
    "left = pd.DataFrame({\n",
    "   ....:                      'key2': ['0', '2', '1', '3','0','1'],\n",
    "   ....:                      'A': ['A0', 'A1', 'A2', 'A3','A4','A5'],\n",
    "   ....:                      'B': ['B0', 'B1', 'B2', 'B3','B4','B5']})\n",
    "   ....: \n",
    "\n",
    "right = pd.DataFrame({\n",
    "   ....:                       'key2': ['0', '1', '2', '0', '1', '3'],\n",
    "   ....:                       'C': ['C0', 'C1', 'C2', 'C3', 'C4', 'C5'],\n",
    "   ....:                       'D': ['D0', 'D1', 'D2', 'D3', 'D4', 'D5']})\n",
    "   ....: "
   ]
  },
  {
   "cell_type": "code",
   "execution_count": 244,
   "metadata": {
    "collapsed": false,
    "scrolled": true
   },
   "outputs": [
    {
     "data": {
      "text/html": [
       "<div>\n",
       "<table border=\"1\" class=\"dataframe\">\n",
       "  <thead>\n",
       "    <tr style=\"text-align: right;\">\n",
       "      <th></th>\n",
       "      <th>A</th>\n",
       "      <th>B</th>\n",
       "      <th>key2</th>\n",
       "    </tr>\n",
       "  </thead>\n",
       "  <tbody>\n",
       "    <tr>\n",
       "      <th>0</th>\n",
       "      <td>A0</td>\n",
       "      <td>B0</td>\n",
       "      <td>0</td>\n",
       "    </tr>\n",
       "    <tr>\n",
       "      <th>1</th>\n",
       "      <td>A1</td>\n",
       "      <td>B1</td>\n",
       "      <td>2</td>\n",
       "    </tr>\n",
       "    <tr>\n",
       "      <th>2</th>\n",
       "      <td>A2</td>\n",
       "      <td>B2</td>\n",
       "      <td>1</td>\n",
       "    </tr>\n",
       "    <tr>\n",
       "      <th>3</th>\n",
       "      <td>A3</td>\n",
       "      <td>B3</td>\n",
       "      <td>3</td>\n",
       "    </tr>\n",
       "    <tr>\n",
       "      <th>4</th>\n",
       "      <td>A4</td>\n",
       "      <td>B4</td>\n",
       "      <td>0</td>\n",
       "    </tr>\n",
       "    <tr>\n",
       "      <th>5</th>\n",
       "      <td>A5</td>\n",
       "      <td>B5</td>\n",
       "      <td>1</td>\n",
       "    </tr>\n",
       "  </tbody>\n",
       "</table>\n",
       "</div>"
      ],
      "text/plain": [
       "    A   B key2\n",
       "0  A0  B0    0\n",
       "1  A1  B1    2\n",
       "2  A2  B2    1\n",
       "3  A3  B3    3\n",
       "4  A4  B4    0\n",
       "5  A5  B5    1"
      ]
     },
     "execution_count": 244,
     "metadata": {},
     "output_type": "execute_result"
    }
   ],
   "source": [
    "left"
   ]
  },
  {
   "cell_type": "code",
   "execution_count": 245,
   "metadata": {
    "collapsed": false
   },
   "outputs": [
    {
     "data": {
      "text/html": [
       "<div>\n",
       "<table border=\"1\" class=\"dataframe\">\n",
       "  <thead>\n",
       "    <tr style=\"text-align: right;\">\n",
       "      <th></th>\n",
       "      <th>C</th>\n",
       "      <th>D</th>\n",
       "      <th>key2</th>\n",
       "    </tr>\n",
       "  </thead>\n",
       "  <tbody>\n",
       "    <tr>\n",
       "      <th>0</th>\n",
       "      <td>C0</td>\n",
       "      <td>D0</td>\n",
       "      <td>0</td>\n",
       "    </tr>\n",
       "    <tr>\n",
       "      <th>1</th>\n",
       "      <td>C1</td>\n",
       "      <td>D1</td>\n",
       "      <td>1</td>\n",
       "    </tr>\n",
       "    <tr>\n",
       "      <th>2</th>\n",
       "      <td>C2</td>\n",
       "      <td>D2</td>\n",
       "      <td>2</td>\n",
       "    </tr>\n",
       "    <tr>\n",
       "      <th>3</th>\n",
       "      <td>C3</td>\n",
       "      <td>D3</td>\n",
       "      <td>0</td>\n",
       "    </tr>\n",
       "    <tr>\n",
       "      <th>4</th>\n",
       "      <td>C4</td>\n",
       "      <td>D4</td>\n",
       "      <td>1</td>\n",
       "    </tr>\n",
       "    <tr>\n",
       "      <th>5</th>\n",
       "      <td>C5</td>\n",
       "      <td>D5</td>\n",
       "      <td>3</td>\n",
       "    </tr>\n",
       "  </tbody>\n",
       "</table>\n",
       "</div>"
      ],
      "text/plain": [
       "    C   D key2\n",
       "0  C0  D0    0\n",
       "1  C1  D1    1\n",
       "2  C2  D2    2\n",
       "3  C3  D3    0\n",
       "4  C4  D4    1\n",
       "5  C5  D5    3"
      ]
     },
     "execution_count": 245,
     "metadata": {},
     "output_type": "execute_result"
    }
   ],
   "source": [
    "right"
   ]
  },
  {
   "cell_type": "code",
   "execution_count": 248,
   "metadata": {
    "collapsed": false
   },
   "outputs": [
    {
     "name": "stderr",
     "output_type": "stream",
     "text": [
      "C:\\Miniconda2\\lib\\site-packages\\ipykernel\\__main__.py:1: FutureWarning: sort(columns=....) is deprecated, use sort_values(by=.....)\n",
      "  if __name__ == '__main__':\n"
     ]
    }
   ],
   "source": [
    "left.sort('key2',inplace=True)"
   ]
  },
  {
   "cell_type": "code",
   "execution_count": 249,
   "metadata": {
    "collapsed": false
   },
   "outputs": [
    {
     "data": {
      "text/html": [
       "<div>\n",
       "<table border=\"1\" class=\"dataframe\">\n",
       "  <thead>\n",
       "    <tr style=\"text-align: right;\">\n",
       "      <th></th>\n",
       "      <th>A</th>\n",
       "      <th>B</th>\n",
       "      <th>key2</th>\n",
       "    </tr>\n",
       "  </thead>\n",
       "  <tbody>\n",
       "    <tr>\n",
       "      <th>0</th>\n",
       "      <td>A0</td>\n",
       "      <td>B0</td>\n",
       "      <td>0</td>\n",
       "    </tr>\n",
       "    <tr>\n",
       "      <th>4</th>\n",
       "      <td>A4</td>\n",
       "      <td>B4</td>\n",
       "      <td>0</td>\n",
       "    </tr>\n",
       "    <tr>\n",
       "      <th>2</th>\n",
       "      <td>A2</td>\n",
       "      <td>B2</td>\n",
       "      <td>1</td>\n",
       "    </tr>\n",
       "    <tr>\n",
       "      <th>5</th>\n",
       "      <td>A5</td>\n",
       "      <td>B5</td>\n",
       "      <td>1</td>\n",
       "    </tr>\n",
       "    <tr>\n",
       "      <th>1</th>\n",
       "      <td>A1</td>\n",
       "      <td>B1</td>\n",
       "      <td>2</td>\n",
       "    </tr>\n",
       "    <tr>\n",
       "      <th>3</th>\n",
       "      <td>A3</td>\n",
       "      <td>B3</td>\n",
       "      <td>3</td>\n",
       "    </tr>\n",
       "  </tbody>\n",
       "</table>\n",
       "</div>"
      ],
      "text/plain": [
       "    A   B key2\n",
       "0  A0  B0    0\n",
       "4  A4  B4    0\n",
       "2  A2  B2    1\n",
       "5  A5  B5    1\n",
       "1  A1  B1    2\n",
       "3  A3  B3    3"
      ]
     },
     "execution_count": 249,
     "metadata": {},
     "output_type": "execute_result"
    }
   ],
   "source": [
    "left"
   ]
  },
  {
   "cell_type": "code",
   "execution_count": 246,
   "metadata": {
    "collapsed": false,
    "scrolled": true
   },
   "outputs": [
    {
     "name": "stderr",
     "output_type": "stream",
     "text": [
      "C:\\Miniconda2\\lib\\site-packages\\ipykernel\\__main__.py:1: FutureWarning: sort(columns=....) is deprecated, use sort_values(by=.....)\n",
      "  if __name__ == '__main__':\n"
     ]
    }
   ],
   "source": [
    "right.sort('key2',inplace=True)"
   ]
  },
  {
   "cell_type": "code",
   "execution_count": 247,
   "metadata": {
    "collapsed": false
   },
   "outputs": [
    {
     "data": {
      "text/html": [
       "<div>\n",
       "<table border=\"1\" class=\"dataframe\">\n",
       "  <thead>\n",
       "    <tr style=\"text-align: right;\">\n",
       "      <th></th>\n",
       "      <th>C</th>\n",
       "      <th>D</th>\n",
       "      <th>key2</th>\n",
       "    </tr>\n",
       "  </thead>\n",
       "  <tbody>\n",
       "    <tr>\n",
       "      <th>0</th>\n",
       "      <td>C0</td>\n",
       "      <td>D0</td>\n",
       "      <td>0</td>\n",
       "    </tr>\n",
       "    <tr>\n",
       "      <th>3</th>\n",
       "      <td>C3</td>\n",
       "      <td>D3</td>\n",
       "      <td>0</td>\n",
       "    </tr>\n",
       "    <tr>\n",
       "      <th>1</th>\n",
       "      <td>C1</td>\n",
       "      <td>D1</td>\n",
       "      <td>1</td>\n",
       "    </tr>\n",
       "    <tr>\n",
       "      <th>4</th>\n",
       "      <td>C4</td>\n",
       "      <td>D4</td>\n",
       "      <td>1</td>\n",
       "    </tr>\n",
       "    <tr>\n",
       "      <th>2</th>\n",
       "      <td>C2</td>\n",
       "      <td>D2</td>\n",
       "      <td>2</td>\n",
       "    </tr>\n",
       "    <tr>\n",
       "      <th>5</th>\n",
       "      <td>C5</td>\n",
       "      <td>D5</td>\n",
       "      <td>3</td>\n",
       "    </tr>\n",
       "  </tbody>\n",
       "</table>\n",
       "</div>"
      ],
      "text/plain": [
       "    C   D key2\n",
       "0  C0  D0    0\n",
       "3  C3  D3    0\n",
       "1  C1  D1    1\n",
       "4  C4  D4    1\n",
       "2  C2  D2    2\n",
       "5  C5  D5    3"
      ]
     },
     "execution_count": 247,
     "metadata": {},
     "output_type": "execute_result"
    }
   ],
   "source": [
    "right"
   ]
  },
  {
   "cell_type": "code",
   "execution_count": 250,
   "metadata": {
    "collapsed": true
   },
   "outputs": [],
   "source": [
    "result = pd.merge(left, right, on=['key2'])"
   ]
  },
  {
   "cell_type": "code",
   "execution_count": 251,
   "metadata": {
    "collapsed": false
   },
   "outputs": [
    {
     "data": {
      "text/html": [
       "<div>\n",
       "<table border=\"1\" class=\"dataframe\">\n",
       "  <thead>\n",
       "    <tr style=\"text-align: right;\">\n",
       "      <th></th>\n",
       "      <th>A</th>\n",
       "      <th>B</th>\n",
       "      <th>key2</th>\n",
       "      <th>C</th>\n",
       "      <th>D</th>\n",
       "    </tr>\n",
       "  </thead>\n",
       "  <tbody>\n",
       "    <tr>\n",
       "      <th>0</th>\n",
       "      <td>A0</td>\n",
       "      <td>B0</td>\n",
       "      <td>0</td>\n",
       "      <td>C0</td>\n",
       "      <td>D0</td>\n",
       "    </tr>\n",
       "    <tr>\n",
       "      <th>1</th>\n",
       "      <td>A0</td>\n",
       "      <td>B0</td>\n",
       "      <td>0</td>\n",
       "      <td>C3</td>\n",
       "      <td>D3</td>\n",
       "    </tr>\n",
       "    <tr>\n",
       "      <th>2</th>\n",
       "      <td>A4</td>\n",
       "      <td>B4</td>\n",
       "      <td>0</td>\n",
       "      <td>C0</td>\n",
       "      <td>D0</td>\n",
       "    </tr>\n",
       "    <tr>\n",
       "      <th>3</th>\n",
       "      <td>A4</td>\n",
       "      <td>B4</td>\n",
       "      <td>0</td>\n",
       "      <td>C3</td>\n",
       "      <td>D3</td>\n",
       "    </tr>\n",
       "    <tr>\n",
       "      <th>4</th>\n",
       "      <td>A2</td>\n",
       "      <td>B2</td>\n",
       "      <td>1</td>\n",
       "      <td>C1</td>\n",
       "      <td>D1</td>\n",
       "    </tr>\n",
       "    <tr>\n",
       "      <th>5</th>\n",
       "      <td>A2</td>\n",
       "      <td>B2</td>\n",
       "      <td>1</td>\n",
       "      <td>C4</td>\n",
       "      <td>D4</td>\n",
       "    </tr>\n",
       "    <tr>\n",
       "      <th>6</th>\n",
       "      <td>A5</td>\n",
       "      <td>B5</td>\n",
       "      <td>1</td>\n",
       "      <td>C1</td>\n",
       "      <td>D1</td>\n",
       "    </tr>\n",
       "    <tr>\n",
       "      <th>7</th>\n",
       "      <td>A5</td>\n",
       "      <td>B5</td>\n",
       "      <td>1</td>\n",
       "      <td>C4</td>\n",
       "      <td>D4</td>\n",
       "    </tr>\n",
       "    <tr>\n",
       "      <th>8</th>\n",
       "      <td>A1</td>\n",
       "      <td>B1</td>\n",
       "      <td>2</td>\n",
       "      <td>C2</td>\n",
       "      <td>D2</td>\n",
       "    </tr>\n",
       "    <tr>\n",
       "      <th>9</th>\n",
       "      <td>A3</td>\n",
       "      <td>B3</td>\n",
       "      <td>3</td>\n",
       "      <td>C5</td>\n",
       "      <td>D5</td>\n",
       "    </tr>\n",
       "  </tbody>\n",
       "</table>\n",
       "</div>"
      ],
      "text/plain": [
       "    A   B key2   C   D\n",
       "0  A0  B0    0  C0  D0\n",
       "1  A0  B0    0  C3  D3\n",
       "2  A4  B4    0  C0  D0\n",
       "3  A4  B4    0  C3  D3\n",
       "4  A2  B2    1  C1  D1\n",
       "5  A2  B2    1  C4  D4\n",
       "6  A5  B5    1  C1  D1\n",
       "7  A5  B5    1  C4  D4\n",
       "8  A1  B1    2  C2  D2\n",
       "9  A3  B3    3  C5  D5"
      ]
     },
     "execution_count": 251,
     "metadata": {},
     "output_type": "execute_result"
    }
   ],
   "source": [
    "result"
   ]
  },
  {
   "cell_type": "code",
   "execution_count": 60,
   "metadata": {
    "collapsed": false
   },
   "outputs": [],
   "source": [
    "result2 = pd.merge(left, right, on=['key2'], how='right')"
   ]
  },
  {
   "cell_type": "code",
   "execution_count": 61,
   "metadata": {
    "collapsed": false
   },
   "outputs": [
    {
     "data": {
      "text/html": [
       "<div>\n",
       "<table border=\"1\" class=\"dataframe\">\n",
       "  <thead>\n",
       "    <tr style=\"text-align: right;\">\n",
       "      <th></th>\n",
       "      <th>A</th>\n",
       "      <th>B</th>\n",
       "      <th>key2</th>\n",
       "      <th>C</th>\n",
       "      <th>D</th>\n",
       "    </tr>\n",
       "  </thead>\n",
       "  <tbody>\n",
       "    <tr>\n",
       "      <th>0</th>\n",
       "      <td>A0</td>\n",
       "      <td>B0</td>\n",
       "      <td>0</td>\n",
       "      <td>C0</td>\n",
       "      <td>D0</td>\n",
       "    </tr>\n",
       "    <tr>\n",
       "      <th>1</th>\n",
       "      <td>A4</td>\n",
       "      <td>B5</td>\n",
       "      <td>0</td>\n",
       "      <td>C0</td>\n",
       "      <td>D0</td>\n",
       "    </tr>\n",
       "    <tr>\n",
       "      <th>2</th>\n",
       "      <td>A0</td>\n",
       "      <td>B0</td>\n",
       "      <td>0</td>\n",
       "      <td>C3</td>\n",
       "      <td>D3</td>\n",
       "    </tr>\n",
       "    <tr>\n",
       "      <th>3</th>\n",
       "      <td>A4</td>\n",
       "      <td>B5</td>\n",
       "      <td>0</td>\n",
       "      <td>C3</td>\n",
       "      <td>D3</td>\n",
       "    </tr>\n",
       "    <tr>\n",
       "      <th>4</th>\n",
       "      <td>A1</td>\n",
       "      <td>B1</td>\n",
       "      <td>2</td>\n",
       "      <td>C2</td>\n",
       "      <td>D2</td>\n",
       "    </tr>\n",
       "    <tr>\n",
       "      <th>5</th>\n",
       "      <td>A2</td>\n",
       "      <td>B2</td>\n",
       "      <td>1</td>\n",
       "      <td>C1</td>\n",
       "      <td>D1</td>\n",
       "    </tr>\n",
       "    <tr>\n",
       "      <th>6</th>\n",
       "      <td>A5</td>\n",
       "      <td>B6</td>\n",
       "      <td>1</td>\n",
       "      <td>C1</td>\n",
       "      <td>D1</td>\n",
       "    </tr>\n",
       "  </tbody>\n",
       "</table>\n",
       "</div>"
      ],
      "text/plain": [
       "    A   B key2   C   D\n",
       "0  A0  B0    0  C0  D0\n",
       "1  A4  B5    0  C0  D0\n",
       "2  A0  B0    0  C3  D3\n",
       "3  A4  B5    0  C3  D3\n",
       "4  A1  B1    2  C2  D2\n",
       "5  A2  B2    1  C1  D1\n",
       "6  A5  B6    1  C1  D1"
      ]
     },
     "execution_count": 61,
     "metadata": {},
     "output_type": "execute_result"
    }
   ],
   "source": [
    "result2"
   ]
  },
  {
   "cell_type": "code",
   "execution_count": 212,
   "metadata": {
    "collapsed": true
   },
   "outputs": [],
   "source": [
    "df = pd.merge(df1, df2, on='phase')"
   ]
  },
  {
   "cell_type": "code",
   "execution_count": 213,
   "metadata": {
    "collapsed": false
   },
   "outputs": [
    {
     "data": {
      "text/html": [
       "<div>\n",
       "<table border=\"1\" class=\"dataframe\">\n",
       "  <thead>\n",
       "    <tr style=\"text-align: right;\">\n",
       "      <th></th>\n",
       "      <th>lhx</th>\n",
       "      <th>lhy</th>\n",
       "      <th>lhz</th>\n",
       "      <th>rhx</th>\n",
       "      <th>rhy</th>\n",
       "      <th>rhz</th>\n",
       "      <th>hx</th>\n",
       "      <th>hy</th>\n",
       "      <th>hz</th>\n",
       "      <th>sx</th>\n",
       "      <th>...</th>\n",
       "      <th>23</th>\n",
       "      <th>24</th>\n",
       "      <th>25</th>\n",
       "      <th>26</th>\n",
       "      <th>27</th>\n",
       "      <th>28</th>\n",
       "      <th>29</th>\n",
       "      <th>30</th>\n",
       "      <th>31</th>\n",
       "      <th>32</th>\n",
       "    </tr>\n",
       "  </thead>\n",
       "  <tbody>\n",
       "    <tr>\n",
       "      <th>0</th>\n",
       "      <td>1.843293</td>\n",
       "      <td>3.074965</td>\n",
       "      <td>1.644773</td>\n",
       "      <td>8.228968</td>\n",
       "      <td>3.020815</td>\n",
       "      <td>1.570013</td>\n",
       "      <td>5.03905</td>\n",
       "      <td>1.756163</td>\n",
       "      <td>1.734586</td>\n",
       "      <td>5.049521</td>\n",
       "      <td>...</td>\n",
       "      <td>-0.000049</td>\n",
       "      <td>0.000047</td>\n",
       "      <td>0.001516</td>\n",
       "      <td>0.001352</td>\n",
       "      <td>0.001703</td>\n",
       "      <td>0.001068</td>\n",
       "      <td>0.000416</td>\n",
       "      <td>0.000397</td>\n",
       "      <td>0.000240</td>\n",
       "      <td>0.000422</td>\n",
       "    </tr>\n",
       "    <tr>\n",
       "      <th>1</th>\n",
       "      <td>1.843293</td>\n",
       "      <td>3.074965</td>\n",
       "      <td>1.644773</td>\n",
       "      <td>8.228968</td>\n",
       "      <td>3.020815</td>\n",
       "      <td>1.570013</td>\n",
       "      <td>5.03905</td>\n",
       "      <td>1.756163</td>\n",
       "      <td>1.734586</td>\n",
       "      <td>5.049521</td>\n",
       "      <td>...</td>\n",
       "      <td>-0.000273</td>\n",
       "      <td>0.000059</td>\n",
       "      <td>0.007427</td>\n",
       "      <td>0.017248</td>\n",
       "      <td>0.003709</td>\n",
       "      <td>0.012792</td>\n",
       "      <td>0.000039</td>\n",
       "      <td>0.000174</td>\n",
       "      <td>0.000440</td>\n",
       "      <td>0.000281</td>\n",
       "    </tr>\n",
       "    <tr>\n",
       "      <th>2</th>\n",
       "      <td>1.843293</td>\n",
       "      <td>3.074965</td>\n",
       "      <td>1.644773</td>\n",
       "      <td>8.228968</td>\n",
       "      <td>3.020815</td>\n",
       "      <td>1.570013</td>\n",
       "      <td>5.03905</td>\n",
       "      <td>1.756163</td>\n",
       "      <td>1.734586</td>\n",
       "      <td>5.049521</td>\n",
       "      <td>...</td>\n",
       "      <td>-0.002584</td>\n",
       "      <td>-0.000602</td>\n",
       "      <td>0.007392</td>\n",
       "      <td>0.017023</td>\n",
       "      <td>0.002659</td>\n",
       "      <td>0.012178</td>\n",
       "      <td>0.002543</td>\n",
       "      <td>0.005297</td>\n",
       "      <td>0.001246</td>\n",
       "      <td>0.004187</td>\n",
       "    </tr>\n",
       "    <tr>\n",
       "      <th>3</th>\n",
       "      <td>1.843293</td>\n",
       "      <td>3.074965</td>\n",
       "      <td>1.644773</td>\n",
       "      <td>8.228968</td>\n",
       "      <td>3.020815</td>\n",
       "      <td>1.570013</td>\n",
       "      <td>5.03905</td>\n",
       "      <td>1.756163</td>\n",
       "      <td>1.734586</td>\n",
       "      <td>5.049521</td>\n",
       "      <td>...</td>\n",
       "      <td>0.000008</td>\n",
       "      <td>0.000070</td>\n",
       "      <td>0.000688</td>\n",
       "      <td>0.001083</td>\n",
       "      <td>0.001302</td>\n",
       "      <td>0.000407</td>\n",
       "      <td>0.000281</td>\n",
       "      <td>0.000334</td>\n",
       "      <td>0.000434</td>\n",
       "      <td>0.000264</td>\n",
       "    </tr>\n",
       "    <tr>\n",
       "      <th>4</th>\n",
       "      <td>1.843293</td>\n",
       "      <td>3.074965</td>\n",
       "      <td>1.644773</td>\n",
       "      <td>8.228968</td>\n",
       "      <td>3.020815</td>\n",
       "      <td>1.570013</td>\n",
       "      <td>5.03905</td>\n",
       "      <td>1.756163</td>\n",
       "      <td>1.734586</td>\n",
       "      <td>5.049521</td>\n",
       "      <td>...</td>\n",
       "      <td>-0.000092</td>\n",
       "      <td>-0.000110</td>\n",
       "      <td>0.001527</td>\n",
       "      <td>0.001989</td>\n",
       "      <td>0.001715</td>\n",
       "      <td>0.001108</td>\n",
       "      <td>0.000086</td>\n",
       "      <td>0.000280</td>\n",
       "      <td>0.000341</td>\n",
       "      <td>0.000221</td>\n",
       "    </tr>\n",
       "  </tbody>\n",
       "</table>\n",
       "<p>5 rows × 52 columns</p>\n",
       "</div>"
      ],
      "text/plain": [
       "        lhx       lhy       lhz       rhx       rhy       rhz       hx  \\\n",
       "0  1.843293  3.074965  1.644773  8.228968  3.020815  1.570013  5.03905   \n",
       "1  1.843293  3.074965  1.644773  8.228968  3.020815  1.570013  5.03905   \n",
       "2  1.843293  3.074965  1.644773  8.228968  3.020815  1.570013  5.03905   \n",
       "3  1.843293  3.074965  1.644773  8.228968  3.020815  1.570013  5.03905   \n",
       "4  1.843293  3.074965  1.644773  8.228968  3.020815  1.570013  5.03905   \n",
       "\n",
       "         hy        hz        sx    ...           23        24        25  \\\n",
       "0  1.756163  1.734586  5.049521    ...    -0.000049  0.000047  0.001516   \n",
       "1  1.756163  1.734586  5.049521    ...    -0.000273  0.000059  0.007427   \n",
       "2  1.756163  1.734586  5.049521    ...    -0.002584 -0.000602  0.007392   \n",
       "3  1.756163  1.734586  5.049521    ...     0.000008  0.000070  0.000688   \n",
       "4  1.756163  1.734586  5.049521    ...    -0.000092 -0.000110  0.001527   \n",
       "\n",
       "         26        27        28        29        30        31        32  \n",
       "0  0.001352  0.001703  0.001068  0.000416  0.000397  0.000240  0.000422  \n",
       "1  0.017248  0.003709  0.012792  0.000039  0.000174  0.000440  0.000281  \n",
       "2  0.017023  0.002659  0.012178  0.002543  0.005297  0.001246  0.004187  \n",
       "3  0.001083  0.001302  0.000407  0.000281  0.000334  0.000434  0.000264  \n",
       "4  0.001989  0.001715  0.001108  0.000086  0.000280  0.000341  0.000221  \n",
       "\n",
       "[5 rows x 52 columns]"
      ]
     },
     "execution_count": 213,
     "metadata": {},
     "output_type": "execute_result"
    }
   ],
   "source": [
    "df.head()"
   ]
  },
  {
   "cell_type": "code",
   "execution_count": 214,
   "metadata": {
    "collapsed": false
   },
   "outputs": [
    {
     "data": {
      "text/plain": [
       "Index([u'lhx', u'lhy', u'lhz', u'rhx', u'rhy', u'rhz', u'hx', u'hy', u'hz',\n",
       "       u'sx', u'sy', u'sz', u'lwx', u'lwy', u'lwz', u'rwx', u'rwy', u'rwz',\n",
       "       u'timestamp', u'phase', u'1', u'2', u'3', u'4', u'5', u'6', u'7', u'8',\n",
       "       u'9', u'10', u'11', u'12', u'13', u'14', u'15', u'16', u'17', u'18',\n",
       "       u'19', u'20', u'21', u'22', u'23', u'24', u'25', u'26', u'27', u'28',\n",
       "       u'29', u'30', u'31', u'32'],\n",
       "      dtype='object')"
      ]
     },
     "execution_count": 214,
     "metadata": {},
     "output_type": "execute_result"
    }
   ],
   "source": [
    "df.columns"
   ]
  },
  {
   "cell_type": "code",
   "execution_count": 215,
   "metadata": {
    "collapsed": false
   },
   "outputs": [
    {
     "data": {
      "text/html": [
       "<div>\n",
       "<table border=\"1\" class=\"dataframe\">\n",
       "  <thead>\n",
       "    <tr style=\"text-align: right;\">\n",
       "      <th></th>\n",
       "      <th>lhx</th>\n",
       "      <th>lhy</th>\n",
       "      <th>lhz</th>\n",
       "      <th>rhx</th>\n",
       "      <th>rhy</th>\n",
       "      <th>rhz</th>\n",
       "      <th>hx</th>\n",
       "      <th>hy</th>\n",
       "      <th>hz</th>\n",
       "      <th>sx</th>\n",
       "      <th>...</th>\n",
       "      <th>23</th>\n",
       "      <th>24</th>\n",
       "      <th>25</th>\n",
       "      <th>26</th>\n",
       "      <th>27</th>\n",
       "      <th>28</th>\n",
       "      <th>29</th>\n",
       "      <th>30</th>\n",
       "      <th>31</th>\n",
       "      <th>32</th>\n",
       "    </tr>\n",
       "  </thead>\n",
       "  <tbody>\n",
       "    <tr>\n",
       "      <th>0</th>\n",
       "      <td>1.843293</td>\n",
       "      <td>3.074965</td>\n",
       "      <td>1.644773</td>\n",
       "      <td>8.228968</td>\n",
       "      <td>3.020815</td>\n",
       "      <td>1.570013</td>\n",
       "      <td>5.03905</td>\n",
       "      <td>1.756163</td>\n",
       "      <td>1.734586</td>\n",
       "      <td>5.049521</td>\n",
       "      <td>...</td>\n",
       "      <td>-0.000049</td>\n",
       "      <td>0.000047</td>\n",
       "      <td>0.001516</td>\n",
       "      <td>0.001352</td>\n",
       "      <td>0.001703</td>\n",
       "      <td>0.001068</td>\n",
       "      <td>0.000416</td>\n",
       "      <td>0.000397</td>\n",
       "      <td>0.00024</td>\n",
       "      <td>0.000422</td>\n",
       "    </tr>\n",
       "  </tbody>\n",
       "</table>\n",
       "<p>1 rows × 52 columns</p>\n",
       "</div>"
      ],
      "text/plain": [
       "        lhx       lhy       lhz       rhx       rhy       rhz       hx  \\\n",
       "0  1.843293  3.074965  1.644773  8.228968  3.020815  1.570013  5.03905   \n",
       "\n",
       "         hy        hz        sx    ...           23        24        25  \\\n",
       "0  1.756163  1.734586  5.049521    ...    -0.000049  0.000047  0.001516   \n",
       "\n",
       "         26        27        28        29        30       31        32  \n",
       "0  0.001352  0.001703  0.001068  0.000416  0.000397  0.00024  0.000422  \n",
       "\n",
       "[1 rows x 52 columns]"
      ]
     },
     "execution_count": 215,
     "metadata": {},
     "output_type": "execute_result"
    }
   ],
   "source": [
    "df[:1]"
   ]
  },
  {
   "cell_type": "code",
   "execution_count": 216,
   "metadata": {
    "collapsed": false
   },
   "outputs": [
    {
     "data": {
      "text/plain": [
       "((1743, 20), (1743, 33), (976543, 52))"
      ]
     },
     "execution_count": 216,
     "metadata": {},
     "output_type": "execute_result"
    }
   ],
   "source": [
    "df1.shape,df2.shape,df.shape"
   ]
  },
  {
   "cell_type": "code",
   "execution_count": null,
   "metadata": {
    "collapsed": false,
    "scrolled": true
   },
   "outputs": [],
   "source": [
    "df.drop('timestamp', axis=1, inplace=True)"
   ]
  },
  {
   "cell_type": "code",
   "execution_count": 187,
   "metadata": {
    "collapsed": false
   },
   "outputs": [],
   "source": [
    "cols = list(df.columns)\n",
    "features = cols\n",
    "features.remove('phase')"
   ]
  },
  {
   "cell_type": "code",
   "execution_count": 188,
   "metadata": {
    "collapsed": false
   },
   "outputs": [
    {
     "data": {
      "text/plain": [
       "50"
      ]
     },
     "execution_count": 188,
     "metadata": {},
     "output_type": "execute_result"
    }
   ],
   "source": [
    "len(features)"
   ]
  },
  {
   "cell_type": "code",
   "execution_count": 191,
   "metadata": {
    "collapsed": false
   },
   "outputs": [
    {
     "data": {
      "text/plain": [
       "((1743, 20), (1743, 33), (976543, 51))"
      ]
     },
     "execution_count": 191,
     "metadata": {},
     "output_type": "execute_result"
    }
   ],
   "source": [
    "df1.shape,df2.shape,df.shape"
   ]
  },
  {
   "cell_type": "code",
   "execution_count": 28,
   "metadata": {
    "collapsed": false
   },
   "outputs": [],
   "source": [
    "df1.drop('phase',axis=1,inplace=True)"
   ]
  },
  {
   "cell_type": "code",
   "execution_count": 29,
   "metadata": {
    "collapsed": true
   },
   "outputs": [],
   "source": [
    "df_1 = pd.concat([df1,df2],axis=1)"
   ]
  },
  {
   "cell_type": "code",
   "execution_count": 32,
   "metadata": {
    "collapsed": true
   },
   "outputs": [],
   "source": [
    "df_1.drop('timestamp' , axis=1, inplace=True )"
   ]
  },
  {
   "cell_type": "code",
   "execution_count": 35,
   "metadata": {
    "collapsed": false
   },
   "outputs": [
    {
     "data": {
      "text/plain": [
       "(1743, 51)"
      ]
     },
     "execution_count": 35,
     "metadata": {},
     "output_type": "execute_result"
    }
   ],
   "source": [
    "df_1.shape"
   ]
  },
  {
   "cell_type": "code",
   "execution_count": 40,
   "metadata": {
    "collapsed": false
   },
   "outputs": [],
   "source": [
    "cols = list(df_1.columns)\n",
    "features = cols\n",
    "features.remove('phase')"
   ]
  },
  {
   "cell_type": "code",
   "execution_count": 41,
   "metadata": {
    "collapsed": false
   },
   "outputs": [],
   "source": [
    "X = df_1[features]\n",
    "y = df_1['phase']"
   ]
  },
  {
   "cell_type": "code",
   "execution_count": 42,
   "metadata": {
    "collapsed": true
   },
   "outputs": [],
   "source": [
    "# split dataset to 60% training and 40% testing\n",
    "X_train, X_test, y_train, y_test = cross_validation.train_test_split(X, y, test_size=0.4, random_state=0)"
   ]
  },
  {
   "cell_type": "code",
   "execution_count": 43,
   "metadata": {
    "collapsed": false
   },
   "outputs": [
    {
     "name": "stdout",
     "output_type": "stream",
     "text": [
      "(1045, 50) (1045L,)\n"
     ]
    }
   ],
   "source": [
    "print X_train.shape, y_train.shape"
   ]
  },
  {
   "cell_type": "markdown",
   "metadata": {
    "collapsed": true
   },
   "source": [
    "# Unsupervised Learning"
   ]
  },
  {
   "cell_type": "markdown",
   "metadata": {},
   "source": [
    "## PCA"
   ]
  },
  {
   "cell_type": "code",
   "execution_count": 44,
   "metadata": {
    "collapsed": false
   },
   "outputs": [
    {
     "data": {
      "text/plain": [
       "50"
      ]
     },
     "execution_count": 44,
     "metadata": {},
     "output_type": "execute_result"
    }
   ],
   "source": [
    "len(features)"
   ]
  },
  {
   "cell_type": "code",
   "execution_count": 45,
   "metadata": {
    "collapsed": false
   },
   "outputs": [
    {
     "name": "stdout",
     "output_type": "stream",
     "text": [
      "[[  3.24581191e-01   2.92251490e-01  -7.53364165e-03 ...,  -3.24728085e-04\n",
      "   -3.41055456e-04  -3.57808090e-04]\n",
      " [  3.61481275e-01   3.43404679e-01   9.08432680e-04 ...,   5.07423576e-04\n",
      "   -9.78392399e-05   2.70505189e-04]\n",
      " [ -2.37097518e-01   5.92270728e-01   1.24632609e-02 ...,  -3.58624880e-04\n",
      "   -3.90482340e-04  -1.93933193e-04]\n",
      " ..., \n",
      " [ -4.04553884e-05   7.12943663e-05  -1.15402630e-03 ...,   4.86619567e-03\n",
      "   -1.48671225e-02   7.35656948e-03]\n",
      " [ -1.29660243e-04  -2.43834901e-05  -9.59580183e-04 ...,  -2.71273032e-03\n",
      "    1.29078542e-02   4.33512842e-03]\n",
      " [ -6.46273141e-05  -7.94059286e-05  -8.03733060e-04 ...,  -3.07743917e-05\n",
      "    5.64481537e-03   4.41337238e-04]]\n",
      "[  5.43602019e-01   1.94609502e-01   1.79945381e-01   6.06757941e-02\n",
      "   6.51627887e-03   3.58008210e-03   2.67915903e-03   2.33392917e-03\n",
      "   1.79531854e-03   1.48063948e-03   8.24068490e-04   6.16949441e-04\n",
      "   5.22681332e-04   3.02808424e-04   9.48140982e-05   8.22443484e-05\n",
      "   6.86532264e-05   5.74845805e-05   5.44861553e-05   3.78224060e-05\n",
      "   3.29970596e-05   2.22630456e-05   1.86548452e-05   1.34322604e-05\n",
      "   4.24253117e-06   3.74622695e-06   3.12518674e-06   2.80866166e-06\n",
      "   2.68473778e-06   2.38735187e-06   2.18231402e-06   1.95711839e-06\n",
      "   1.74097538e-06   1.57779695e-06   1.51902148e-06   1.15606438e-06\n",
      "   1.09387478e-06   4.78227553e-07   3.75018054e-07   3.06011531e-07\n",
      "   2.81524044e-07   2.41916791e-07   2.23069620e-07   1.76570338e-07\n",
      "   8.01344334e-08   5.95234827e-08   5.05723238e-08   2.85968368e-08\n",
      "   8.08258475e-09   6.73808980e-09]\n"
     ]
    }
   ],
   "source": [
    "# Apply PCA with the same number of dimensions as variables in the dataset\n",
    "from sklearn.decomposition import PCA\n",
    "pca = PCA(n_components=50)\n",
    "pca.fit(X)\n",
    "\n",
    "# Print the components and the amount of variance in the data contained in each dimension\n",
    "print(pca.components_)\n",
    "print(pca.explained_variance_ratio_)"
   ]
  },
  {
   "cell_type": "code",
   "execution_count": 46,
   "metadata": {
    "collapsed": false
   },
   "outputs": [
    {
     "data": {
      "image/png": "[encoded data removed]",
      "text/plain": [
       "<matplotlib.figure.Figure at 0x9911518>"
      ]
     },
     "metadata": {},
     "output_type": "display_data"
    }
   ],
   "source": [
    "%matplotlib inline\n",
    "import matplotlib.pyplot as plt\n",
    "plt.plot(list(pca.explained_variance_ratio_),'-o')\n",
    "plt.title('Explained variance ratio as function of PCA components')\n",
    "plt.ylabel('Explained variance ratio')\n",
    "plt.xlabel('Component')\n",
    "plt.show()"
   ]
  },
  {
   "cell_type": "code",
   "execution_count": 47,
   "metadata": {
    "collapsed": false
   },
   "outputs": [
    {
     "name": "stdout",
     "output_type": "stream",
     "text": [
      "[[-4.97920203 -1.99254767]\n",
      " [ 1.05764711  0.24918246]\n",
      " [ 1.0436656   0.27278704]\n",
      " [ 0.54357051  0.36484743]\n",
      " [ 0.55093989  0.38420189]\n",
      " [ 0.55136204  0.39983171]\n",
      " [-4.89826696 -1.9399872 ]\n",
      " [-4.90657144 -1.94518439]\n",
      " [-4.9156538  -1.95073956]\n",
      " [-4.92688358 -1.95743474]]\n"
     ]
    }
   ],
   "source": [
    "# First we reduce the data to two dimensions using PCA to capture variation\n",
    "pca = PCA(n_components=2)\n",
    "reduced_data = pca.fit_transform(X)\n",
    "print(reduced_data[:10])  # print upto 10 elements"
   ]
  },
  {
   "cell_type": "code",
   "execution_count": 48,
   "metadata": {
    "collapsed": true
   },
   "outputs": [],
   "source": [
    "# Import clustering modules\n",
    "from sklearn.cluster import KMeans\n",
    "from sklearn.mixture import GMM"
   ]
  },
  {
   "cell_type": "code",
   "execution_count": 49,
   "metadata": {
    "collapsed": false
   },
   "outputs": [
    {
     "name": "stdout",
     "output_type": "stream",
     "text": [
      "KMeans(copy_x=True, init='k-means++', max_iter=300, n_clusters=5, n_init=10,\n",
      "    n_jobs=1, precompute_distances='auto', random_state=None, tol=0.0001,\n",
      "    verbose=0)\n"
     ]
    }
   ],
   "source": [
    "kmeans = KMeans(n_clusters=5)\n",
    "clusters = kmeans.fit(reduced_data)\n",
    "print(clusters)"
   ]
  },
  {
   "cell_type": "code",
   "execution_count": 50,
   "metadata": {
    "collapsed": true
   },
   "outputs": [],
   "source": [
    "# Plot the decision boundary by building a mesh grid to populate a graph.\n",
    "x_min, x_max = reduced_data[:, 0].min() - 1, reduced_data[:, 0].max() + 1\n",
    "y_min, y_max = reduced_data[:, 1].min() - 1, reduced_data[:, 1].max() + 1\n",
    "hx = (x_max-x_min)/1000.\n",
    "hy = (y_max-y_min)/1000.\n",
    "xx, yy = np.meshgrid(np.arange(x_min, x_max, hx), np.arange(y_min, y_max, hy))\n",
    "\n",
    "# Obtain labels for each point in mesh. Use last trained model.\n",
    "Z = clusters.predict(np.c_[xx.ravel(), yy.ravel()])"
   ]
  },
  {
   "cell_type": "code",
   "execution_count": 51,
   "metadata": {
    "collapsed": false
   },
   "outputs": [
    {
     "name": "stdout",
     "output_type": "stream",
     "text": [
      "*** K MEANS CENTROIDS ***\n",
      "[[ 1.18134022 -0.11051211]\n",
      " [-3.756748   -0.90595973]\n",
      " [-1.37556782  1.94203578]\n",
      " [-0.26097948  0.37070527]\n",
      " [-0.75118636 -1.29505563]]\n",
      "*** CENTROIDS TRANSFERED TO ORIGINAL SPACE ***\n",
      "[[  5.07568233e+00   4.41700467e+00   1.48298762e+00   4.89710937e+00\n",
      "    4.42560169e+00   1.47296874e+00   5.11747990e+00   1.65395293e+00\n",
      "    1.75892126e+00   5.11537035e+00   4.27823846e+00   1.74234865e+00\n",
      "    4.87822818e+00   4.39828185e+00   1.52204475e+00   5.11203670e+00\n",
      "    4.41814204e+00   1.50415463e+00  -5.40001340e-04  -4.95434852e-04\n",
      "    1.45821777e-05   9.43749927e-04  -1.36177541e-03  -5.34799531e-05\n",
      "   -3.36676110e-04  -4.48647088e-04   6.41964045e-06   7.17965460e-04\n",
      "   -1.20434182e-03  -7.65163255e-05   1.61552576e-05   8.24982621e-05\n",
      "   -6.09655572e-06  -5.56746164e-05   9.84436408e-05  -2.72900068e-05\n",
      "    3.50530897e-05   8.09844769e-05  -3.20020859e-06  -4.32869491e-05\n",
      "    9.64489989e-05  -2.32896165e-05   6.89508901e-03   8.86421552e-03\n",
      "    5.54440265e-03   6.75897898e-03   1.65032799e-03   2.08923404e-03\n",
      "    1.34705981e-03   1.49257474e-03]\n",
      " [  3.18533235e+00   2.70068060e+00   1.51946680e+00   7.06738949e+00\n",
      "    2.76322387e+00   1.51883638e+00   5.04868835e+00   1.69280837e+00\n",
      "    1.73204626e+00   5.06855381e+00   4.22837301e+00   1.74226038e+00\n",
      "    3.24120591e+00   2.83158943e+00   1.51399715e+00   6.97957185e+00\n",
      "    2.87339666e+00   1.52325939e+00   3.33804012e-03   3.10702353e-03\n",
      "    1.62356900e-04  -3.39428443e-03   9.19754390e-04   2.69057051e-05\n",
      "    2.53180975e-03   2.46599099e-03   2.22584285e-04  -2.57895704e-03\n",
      "    5.55667517e-04   7.48502470e-05  -8.49234522e-05  -2.37471298e-04\n",
      "    4.58835118e-05   2.01223183e-04  -1.01230998e-04   2.06735427e-05\n",
      "   -8.76506093e-05  -2.58024720e-04   3.60118245e-05   1.86209802e-04\n",
      "   -1.85442476e-04   2.50613353e-05   2.21797955e-02   2.05765979e-02\n",
      "    2.02969083e-02   1.95150932e-02   3.57096803e-03   3.28914110e-03\n",
      "    3.10904773e-03   3.04428995e-03]\n",
      " [  4.98771570e+00   4.37459904e+00   1.50411505e+00   5.89679390e+00\n",
      "    2.18246266e+00   1.49581184e+00   4.94424483e+00   1.65108646e+00\n",
      "    1.75484332e+00   5.05201274e+00   4.24233827e+00   1.74417394e+00\n",
      "    4.82799864e+00   4.29479389e+00   1.52855231e+00   5.91331642e+00\n",
      "    2.41359544e+00   1.49878739e+00  -1.35401238e-03  -1.94494888e-03\n",
      "   -2.42667660e-04  -1.32071378e-03   6.37096219e-03   5.62992337e-04\n",
      "   -9.79705922e-04  -1.70384624e-03  -2.86780524e-04  -7.80355989e-04\n",
      "    5.72597346e-03   6.18188927e-04   5.84445623e-05   1.84671185e-04\n",
      "   -3.96331029e-06  -1.08409138e-04  -4.30351003e-04   1.26243978e-04\n",
      "    3.75654223e-05   1.44406641e-04  -3.05494341e-06  -9.10790822e-05\n",
      "   -4.49592362e-04   1.17900119e-04   8.67067690e-03   1.81212553e-02\n",
      "    7.71432387e-03   1.46152719e-02   2.28001091e-03   3.96104508e-03\n",
      "    2.01828752e-03   2.96268198e-03]\n",
      " [  4.78148356e+00   4.16073689e+00   1.49429069e+00   5.49508225e+00\n",
      "    3.53980021e+00   1.48610322e+00   5.05754195e+00   1.65864659e+00\n",
      "    1.75392003e+00   5.09037036e+00   4.26075509e+00   1.74286460e+00\n",
      "    4.63096846e+00   4.14559960e+00   1.52278492e+00   5.60952556e+00\n",
      "    3.61814528e+00   1.50531649e+00  -2.24395379e-04  -4.03009480e-04\n",
      "   -3.88948087e-05  -3.28592540e-04   1.20150760e-03   1.36441548e-04\n",
      "   -1.15080717e-04  -3.97738913e-04  -4.77442492e-05  -1.84544765e-04\n",
      "    1.05246858e-03   1.46147349e-04   1.40305745e-05   6.65952051e-05\n",
      "    1.91050127e-06  -3.44232845e-05  -8.30494961e-05   2.39827940e-05\n",
      "    1.83371711e-05   5.11548441e-05   2.41616527e-06  -2.44998778e-05\n",
      "   -1.01725571e-04   2.44640900e-05   9.58204152e-03   1.32095199e-02\n",
      "    8.26987410e-03   1.08470848e-02   2.10568184e-03   2.80177680e-03\n",
      "    1.79188887e-03   2.13882020e-03]\n",
      " [  4.02023025e+00   3.44544311e+00   1.49647050e+00   5.79041452e+00\n",
      "    4.26485748e+00   1.49124042e+00   5.13932083e+00   1.67730375e+00\n",
      "    1.74491779e+00   5.11090912e+00   4.26229537e+00   1.74165114e+00\n",
      "    3.95502367e+00   3.53437635e+00   1.51511289e+00   5.90161893e+00\n",
      "    4.24047319e+00   1.51703837e+00   1.97763401e-03   2.08897226e-03\n",
      "    1.90680800e-04  -7.47474831e-04  -2.79031040e-03  -2.25712922e-04\n",
      "    1.54005503e-03   1.67152957e-03   2.34569198e-04  -6.46275984e-04\n",
      "   -2.64833004e-03  -2.35668684e-04  -5.69321928e-05  -1.37632478e-04\n",
      "    2.30270405e-05   1.10682843e-04   1.71038523e-04  -5.41225320e-05\n",
      "   -3.63703968e-05  -1.36359800e-04   1.92884112e-05   1.05568392e-04\n",
      "    1.27894712e-04  -4.55253926e-05   1.50519728e-02   1.23166580e-02\n",
      "    1.32556356e-02   1.13077260e-02   2.53123989e-03   2.11571438e-03\n",
      "    2.12205338e-03   1.86362322e-03]]\n"
     ]
    }
   ],
   "source": [
    "# Find the centroids for KMeans or the cluster means for GMM \n",
    "\n",
    "centroids = kmeans.cluster_centers_\n",
    "print('*** K MEANS CENTROIDS ***')\n",
    "print(centroids)\n",
    "\n",
    "# TRANSFORM DATA BACK TO ORIGINAL SPACE FOR ANSWERING 7\n",
    "print('*** CENTROIDS TRANSFERED TO ORIGINAL SPACE ***')\n",
    "print(pca.inverse_transform(centroids))"
   ]
  },
  {
   "cell_type": "code",
   "execution_count": 52,
   "metadata": {
    "collapsed": false
   },
   "outputs": [
    {
     "data": {
      "image/png": "[encoded data removed]",
      "text/plain": [
       "<matplotlib.figure.Figure at 0xbae5f98>"
      ]
     },
     "metadata": {},
     "output_type": "display_data"
    }
   ],
   "source": [
    "# Put the result into a color plot\n",
    "Z = Z.reshape(xx.shape)\n",
    "plt.figure(1)\n",
    "plt.clf()\n",
    "plt.imshow(Z, interpolation='nearest',\n",
    "           extent=(xx.min(), xx.max(), yy.min(), yy.max()),\n",
    "           cmap=plt.cm.Paired,\n",
    "           aspect='auto', origin='lower')\n",
    "\n",
    "plt.plot(reduced_data[:, 0], reduced_data[:, 1], 'k.', markersize=2)\n",
    "plt.scatter(centroids[:, 0], centroids[:, 1],\n",
    "            marker='x', s=169, linewidths=3,\n",
    "            color='w', zorder=10)\n",
    "plt.title('Clustering on the seeds dataset (PCA-reduced data)\\n'\n",
    "          'Centroids are marked with white cross')\n",
    "plt.xlim(x_min, x_max)\n",
    "plt.ylim(y_min, y_max)\n",
    "plt.xticks(())\n",
    "plt.yticks(())\n",
    "plt.show()"
   ]
  },
  {
   "cell_type": "markdown",
   "metadata": {},
   "source": [
    "### Applying agglomerative clustering via scikit-learn"
   ]
  },
  {
   "cell_type": "code",
   "execution_count": 53,
   "metadata": {
    "collapsed": false
   },
   "outputs": [
    {
     "name": "stdout",
     "output_type": "stream",
     "text": [
      "Cluster labels: [3 2 2 ..., 2 3 0]\n"
     ]
    }
   ],
   "source": [
    "from sklearn.cluster import AgglomerativeClustering\n",
    "\n",
    "ac = AgglomerativeClustering(n_clusters=5, affinity='euclidean', linkage='complete')\n",
    "labels = ac.fit_predict(X)\n",
    "print('Cluster labels: %s' % labels)"
   ]
  },
  {
   "cell_type": "markdown",
   "metadata": {},
   "source": [
    "___"
   ]
  },
  {
   "cell_type": "code",
   "execution_count": 54,
   "metadata": {
    "collapsed": true
   },
   "outputs": [],
   "source": [
    "X = df_1[features]\n",
    "y = df_1['phase']\n",
    "# split dataset to 60% training and 40% testing\n",
    "X_train, X_test, y_train, y_test = cross_validation.train_test_split(X, y, test_size=0.4, random_state=0)"
   ]
  },
  {
   "cell_type": "markdown",
   "metadata": {},
   "source": [
    "### K Means"
   ]
  },
  {
   "cell_type": "code",
   "execution_count": 55,
   "metadata": {
    "collapsed": false
   },
   "outputs": [
    {
     "name": "stdout",
     "output_type": "stream",
     "text": [
      "(1045L,)\n",
      "[0 2 4 ..., 2 1 2]\n"
     ]
    }
   ],
   "source": [
    "from sklearn import cluster\n",
    "clf = cluster.KMeans(init='k-means++', n_clusters=5, random_state=5)\n",
    "clf.fit(X_train)\n",
    "print clf.labels_.shape\n",
    "print clf.labels_"
   ]
  },
  {
   "cell_type": "code",
   "execution_count": 56,
   "metadata": {
    "collapsed": true
   },
   "outputs": [],
   "source": [
    "# Predict clusters on testing data\n",
    "y_pred = clf.predict(X_test)"
   ]
  },
  {
   "cell_type": "code",
   "execution_count": 57,
   "metadata": {
    "collapsed": false
   },
   "outputs": [
    {
     "name": "stdout",
     "output_type": "stream",
     "text": [
      "Addjusted rand score:0.16\n",
      "Homogeneity score:0.22 \n",
      "Completeness score: 0.21 \n",
      "Confusion matrix\n",
      "[[  8   0   5   0   5]\n",
      " [  6  17  20   3  11]\n",
      " [  0  80 200   0   0]\n",
      " [ 12   7  45   8  10]\n",
      " [ 24  13  79  66  79]]\n"
     ]
    }
   ],
   "source": [
    "from sklearn import metrics\n",
    "print \"Addjusted rand score:{:.2}\".format(metrics.adjusted_rand_score(y_test, y_pred))\n",
    "print \"Homogeneity score:{:.2} \".format(metrics.homogeneity_score(y_test, y_pred)) \n",
    "print \"Completeness score: {:.2} \".format(metrics.completeness_score(y_test, y_pred))\n",
    "print \"Confusion matrix\"\n",
    "print metrics.confusion_matrix(y_test, y_pred)"
   ]
  },
  {
   "cell_type": "markdown",
   "metadata": {},
   "source": [
    "### Affinity Propogation"
   ]
  },
  {
   "cell_type": "code",
   "execution_count": 58,
   "metadata": {
    "collapsed": false
   },
   "outputs": [
    {
     "name": "stdout",
     "output_type": "stream",
     "text": [
      "(41L,)\n"
     ]
    }
   ],
   "source": [
    "# Affinity propagation\n",
    "aff = cluster.AffinityPropagation()\n",
    "aff.fit(X_train)\n",
    "print aff.cluster_centers_indices_.shape"
   ]
  },
  {
   "cell_type": "code",
   "execution_count": 59,
   "metadata": {
    "collapsed": false
   },
   "outputs": [],
   "source": [
    "y_pred = aff.predict(X_test)"
   ]
  },
  {
   "cell_type": "code",
   "execution_count": 60,
   "metadata": {
    "collapsed": false
   },
   "outputs": [
    {
     "name": "stdout",
     "output_type": "stream",
     "text": [
      "Addjusted rand score:0.078\n",
      "Homogeneity score:0.57 \n",
      "Completeness score: 0.21 \n",
      "Confusion matrix\n",
      "[[ 0  0  4 ...,  0  4  0]\n",
      " [ 0  0  5 ...,  0  0  3]\n",
      " [15 24  0 ...,  0  0  0]\n",
      " ..., \n",
      " [ 0  0  0 ...,  0  0  0]\n",
      " [ 0  0  0 ...,  0  0  0]\n",
      " [ 0  0  0 ...,  0  0  0]]\n"
     ]
    }
   ],
   "source": [
    "from sklearn import metrics\n",
    "print \"Addjusted rand score:{:.2}\".format(metrics.adjusted_rand_score(y_test, y_pred))\n",
    "print \"Homogeneity score:{:.2} \".format(metrics.homogeneity_score(y_test, y_pred)) \n",
    "print \"Completeness score: {:.2} \".format(metrics.completeness_score(y_test, y_pred))\n",
    "print \"Confusion matrix\"\n",
    "print metrics.confusion_matrix(y_test, y_pred)"
   ]
  },
  {
   "cell_type": "markdown",
   "metadata": {},
   "source": [
    "## MeanShift"
   ]
  },
  {
   "cell_type": "code",
   "execution_count": 61,
   "metadata": {
    "collapsed": false,
    "scrolled": true
   },
   "outputs": [
    {
     "data": {
      "text/plain": [
       "MeanShift(bandwidth=None, bin_seeding=False, cluster_all=True, min_bin_freq=1,\n",
       "     n_jobs=1, seeds=None)"
      ]
     },
     "execution_count": 61,
     "metadata": {},
     "output_type": "execute_result"
    }
   ],
   "source": [
    "ms = cluster.MeanShift()\n",
    "ms.fit(X_train)"
   ]
  },
  {
   "cell_type": "code",
   "execution_count": 62,
   "metadata": {
    "collapsed": true
   },
   "outputs": [],
   "source": [
    "y_pred = ms.predict(X_test)"
   ]
  },
  {
   "cell_type": "code",
   "execution_count": 63,
   "metadata": {
    "collapsed": false
   },
   "outputs": [
    {
     "name": "stdout",
     "output_type": "stream",
     "text": [
      "Addjusted rand score:0.048\n",
      "Homogeneity score:0.041 \n",
      "Completeness score: 0.19 \n",
      "Confusion matrix\n",
      "[[ 10   8   0   0   0]\n",
      " [ 51   6   0   0   0]\n",
      " [280   0   0   0   0]\n",
      " [ 68  14   0   0   0]\n",
      " [234  27   0   0   0]]\n"
     ]
    }
   ],
   "source": [
    "from sklearn import metrics\n",
    "print \"Addjusted rand score:{:.2}\".format(metrics.adjusted_rand_score(y_test, y_pred))\n",
    "print \"Homogeneity score:{:.2} \".format(metrics.homogeneity_score(y_test, y_pred)) \n",
    "print \"Completeness score: {:.2} \".format(metrics.completeness_score(y_test, y_pred))\n",
    "print \"Confusion matrix\"\n",
    "print metrics.confusion_matrix(y_test, y_pred)"
   ]
  },
  {
   "cell_type": "markdown",
   "metadata": {},
   "source": [
    "### Mixture of Guassian Models"
   ]
  },
  {
   "cell_type": "code",
   "execution_count": 369,
   "metadata": {
    "collapsed": false
   },
   "outputs": [
    {
     "name": "stdout",
     "output_type": "stream",
     "text": [
      "Adjusted rand score for covariance=spherical:0.046\n",
      "Adjusted rand score for covariance=tied:0.048\n",
      "Adjusted rand score for covariance=diag:0.05\n",
      "Adjusted rand score for covariance=full:0.046\n"
     ]
    }
   ],
   "source": [
    "from sklearn import mixture\n",
    "\n",
    "# Define a heldout dataset to estimate covariance type\n",
    "X_train_heldout, X_test_heldout, y_train_heldout, y_test_heldout = train_test_split(\n",
    "        X_train, y_train,test_size=0.25, random_state=42)\n",
    "for covariance_type in ['spherical','tied','diag','full']:\n",
    "    gm=mixture.GMM(n_components=100, covariance_type=covariance_type, random_state=42, n_init=5)\n",
    "    gm.fit(X_train_heldout)\n",
    "    y_pred=gm.predict(X_test_heldout)\n",
    "    print \"Adjusted rand score for covariance={}:{:.2}\".format(covariance_type, \n",
    "                                                               metrics.adjusted_rand_score(y_test_heldout, y_pred))\n"
   ]
  },
  {
   "cell_type": "markdown",
   "metadata": {},
   "source": [
    "___"
   ]
  },
  {
   "cell_type": "code",
   "execution_count": 64,
   "metadata": {
    "collapsed": false
   },
   "outputs": [],
   "source": [
    "pca = PCA(n_components=2)\n",
    "X = pca.fit_transform(X)"
   ]
  },
  {
   "cell_type": "code",
   "execution_count": 65,
   "metadata": {
    "collapsed": false
   },
   "outputs": [],
   "source": [
    "c = []\n",
    "from matplotlib.pyplot import cm \n",
    "n=6\n",
    "color=iter(cm.rainbow(np.linspace(0,1,n)))\n",
    "for i in range(n):\n",
    "    c.append(next(color))"
   ]
  },
  {
   "cell_type": "code",
   "execution_count": 66,
   "metadata": {
    "collapsed": false
   },
   "outputs": [
    {
     "data": {
      "image/png": "[encoded data removed]",
      "text/plain": [
       "<matplotlib.figure.Figure at 0x9ae4ac8>"
      ]
     },
     "metadata": {},
     "output_type": "display_data"
    }
   ],
   "source": [
    "n = 5\n",
    "f, (ax1, ax2) = plt.subplots(1, 2, figsize=(8,6))\n",
    "\n",
    "km = KMeans(n_clusters= n , random_state=0)\n",
    "y_km = km.fit_predict(X)\n",
    "\n",
    "for i in range(n):\n",
    "    ax1.scatter(X[y_km==i,0], X[y_km==i,1], c=c[i], marker='o', s=40, label='cluster{}'.format(i))\n",
    "ax1.set_title('K-means clustering')\n",
    "\n",
    "ac = AgglomerativeClustering(n_clusters=n, affinity='euclidean', linkage='complete')\n",
    "y_ac = ac.fit_predict(X)\n",
    "for i in range(n):\n",
    "    ax2.scatter(X[y_ac==i,0], X[y_ac==i,1], c=c[i], marker='o', s=40, label='cluster{}'.format(i))\n",
    "ax2.set_title('Agglomerative clustering')\n",
    "\n",
    "# Put a legend below current axis\n",
    "plt.legend()\n",
    "    \n",
    "plt.tight_layout()\n",
    "#plt.savefig('./figures/kmeans_and_ac.png', dpi=300)\n",
    "plt.show()"
   ]
  },
  {
   "cell_type": "markdown",
   "metadata": {},
   "source": [
    "____"
   ]
  },
  {
   "cell_type": "markdown",
   "metadata": {},
   "source": [
    "# Classification"
   ]
  },
  {
   "cell_type": "code",
   "execution_count": 67,
   "metadata": {
    "collapsed": true
   },
   "outputs": [],
   "source": [
    "import os\n",
    "from sklearn.tree import DecisionTreeClassifier, export_graphviz\n",
    "import pandas as pd\n",
    "import numpy as np\n",
    "from sklearn.cross_validation import train_test_split\n",
    "from sklearn import cross_validation, metrics\n",
    "from sklearn.ensemble import RandomForestClassifier\n",
    "from sklearn.naive_bayes import BernoulliNB\n",
    "from sklearn.neighbors import KNeighborsClassifier\n",
    "from sklearn.svm import SVC\n",
    "from time import time\n",
    "from sklearn.pipeline import Pipeline\n",
    "from sklearn.metrics import roc_auc_score , classification_report\n",
    "from sklearn.grid_search import GridSearchCV\n",
    "from sklearn.pipeline import Pipeline\n",
    "from sklearn.metrics import precision_score, recall_score, accuracy_score, classification_report\n"
   ]
  },
  {
   "cell_type": "code",
   "execution_count": 68,
   "metadata": {
    "collapsed": true
   },
   "outputs": [],
   "source": [
    "X = df_1[features]\n",
    "y = df_1['phase']\n",
    "# split dataset to 60% training and 40% testing\n",
    "X_train, X_test, y_train, y_test = cross_validation.train_test_split(X, y, test_size=0.4, random_state=0)"
   ]
  },
  {
   "cell_type": "code",
   "execution_count": 69,
   "metadata": {
    "collapsed": false
   },
   "outputs": [
    {
     "name": "stdout",
     "output_type": "stream",
     "text": [
      "(1045, 50) (1045L,) (698, 50) (698L,)\n"
     ]
    }
   ],
   "source": [
    "print X_train.shape, y_train.shape,X_test.shape, y_test.shape"
   ]
  },
  {
   "cell_type": "markdown",
   "metadata": {},
   "source": [
    "# Decision Tree accuracy and time elapsed caculation"
   ]
  },
  {
   "cell_type": "code",
   "execution_count": 70,
   "metadata": {
    "collapsed": false
   },
   "outputs": [
    {
     "name": "stdout",
     "output_type": "stream",
     "text": [
      "DecisionTree\n",
      "Acurracy:  0.823782234957\n",
      "time elapsed:  0.154000043869\n"
     ]
    }
   ],
   "source": [
    "t0=time()\n",
    "print \"DecisionTree\"\n",
    "\n",
    "dt = DecisionTreeClassifier(min_samples_split=20,random_state=99)\n",
    "# dt = DecisionTreeClassifier(min_samples_split=20,max_depth=5,random_state=99)\n",
    "\n",
    "clf_dt=dt.fit(X_train,y_train)\n",
    "\n",
    "print \"Acurracy: \", clf_dt.score(X_test,y_test)\n",
    "t1=time()\n",
    "print \"time elapsed: \", t1-t0"
   ]
  },
  {
   "cell_type": "code",
   "execution_count": 71,
   "metadata": {
    "collapsed": false
   },
   "outputs": [
    {
     "name": "stdout",
     "output_type": "stream",
     "text": [
      "cross result========\n",
      "[ 0.49287749  0.7277937   0.64756447  0.68678161  0.5433526 ]\n",
      "0.619673973884\n",
      "time elapsed:  0.986000061035\n",
      "\n",
      "\n"
     ]
    }
   ],
   "source": [
    "tt0=time()\n",
    "print \"cross result========\"\n",
    "scores = cross_validation.cross_val_score(dt, X,y, cv=5)\n",
    "print scores\n",
    "print scores.mean()\n",
    "tt1=time()\n",
    "print \"time elapsed: \", tt1-tt0\n",
    "print \"\\n\""
   ]
  },
  {
   "cell_type": "code",
   "execution_count": 72,
   "metadata": {
    "collapsed": false
   },
   "outputs": [
    {
     "name": "stderr",
     "output_type": "stream",
     "text": [
      "[Parallel(n_jobs=-1)]: Done  34 tasks      | elapsed:   16.9s\n",
      "[Parallel(n_jobs=-1)]: Done  81 out of  81 | elapsed:   18.7s finished\n"
     ]
    },
    {
     "name": "stdout",
     "output_type": "stream",
     "text": [
      "Fitting 3 folds for each of 27 candidates, totalling 81 fits\n",
      "Best score: 0.814\n",
      "Best parameters set:\n",
      "\tclf__max_depth: 50\n",
      "\tclf__min_samples_leaf: 1\n",
      "\tclf__min_samples_split: 10\n",
      "             precision    recall  f1-score   support\n",
      "\n",
      "          0       0.80      0.67      0.73        18\n",
      "          1       0.43      0.46      0.44        57\n",
      "          2       0.92      0.90      0.91       280\n",
      "          3       0.75      0.62      0.68        82\n",
      "          4       0.85      0.92      0.89       261\n",
      "\n",
      "avg / total       0.83      0.83      0.83       698\n",
      "\n"
     ]
    }
   ],
   "source": [
    "from sklearn.metrics import classification_report\n",
    "\n",
    "pipeline = Pipeline([\n",
    "    ('clf', DecisionTreeClassifier(criterion='entropy'))\n",
    "])\n",
    "\n",
    "parameters = {\n",
    "    'clf__max_depth': (5, 25 , 50),\n",
    "    'clf__min_samples_split': (1, 5, 10),\n",
    "    'clf__min_samples_leaf': (1, 2, 3)\n",
    "}\n",
    "\n",
    "grid_search = GridSearchCV(pipeline, parameters, n_jobs=-1, verbose=1, scoring='f1')\n",
    "grid_search.fit(X_train, y_train)\n",
    "\n",
    "print 'Best score: %0.3f' % grid_search.best_score_\n",
    "print 'Best parameters set:'\n",
    "\n",
    "best_parameters = grid_search.best_estimator_.get_params()\n",
    "for param_name in sorted(parameters.keys()):\n",
    "    print '\\t%s: %r' % (param_name, best_parameters[param_name])\n",
    "\n",
    "predictions = grid_search.predict(X_test)\n",
    "\n",
    "print classification_report(y_test, predictions)"
   ]
  },
  {
   "cell_type": "markdown",
   "metadata": {},
   "source": [
    "# Random Forest accuracy and time elapsed caculation"
   ]
  },
  {
   "cell_type": "code",
   "execution_count": 73,
   "metadata": {
    "collapsed": false
   },
   "outputs": [
    {
     "name": "stdout",
     "output_type": "stream",
     "text": [
      "RandomForest\n",
      "Acurracy:  0.901146131805\n",
      "time elapsed:  1.0569999218\n"
     ]
    }
   ],
   "source": [
    "t2=time()\n",
    "print \"RandomForest\"\n",
    "rf = RandomForestClassifier(n_estimators=100,n_jobs=-1)\n",
    "clf_rf = rf.fit(X_train,y_train)\n",
    "print \"Acurracy: \", clf_rf.score(X_test,y_test)\n",
    "t3=time()\n",
    "print \"time elapsed: \", t3-t2"
   ]
  },
  {
   "cell_type": "code",
   "execution_count": 74,
   "metadata": {
    "collapsed": false
   },
   "outputs": [
    {
     "name": "stdout",
     "output_type": "stream",
     "text": [
      "cross result========\n",
      "[ 0.49287749  0.7277937   0.64756447  0.68678161  0.5433526 ]\n",
      "0.619673973884\n",
      "time elapsed:  0.889999866486\n",
      "\n",
      "\n"
     ]
    }
   ],
   "source": [
    "tt2=time()\n",
    "print \"cross result========\"\n",
    "scores = cross_validation.cross_val_score(dt, X,y, cv=5)\n",
    "print scores\n",
    "print scores.mean()\n",
    "tt3=time()\n",
    "print \"time elapsed: \", tt3-tt2\n",
    "print \"\\n\"\n"
   ]
  },
  {
   "cell_type": "code",
   "execution_count": 75,
   "metadata": {
    "collapsed": false
   },
   "outputs": [
    {
     "name": "stderr",
     "output_type": "stream",
     "text": [
      "[Parallel(n_jobs=-1)]: Done  34 tasks      | elapsed:   22.2s\n",
      "[Parallel(n_jobs=-1)]: Done 184 tasks      | elapsed:  1.0min\n",
      "[Parallel(n_jobs=-1)]: Done 324 out of 324 | elapsed:  1.8min finished\n"
     ]
    },
    {
     "name": "stdout",
     "output_type": "stream",
     "text": [
      "Fitting 3 folds for each of 108 candidates, totalling 324 fits\n",
      "Best score: 0.888\n",
      "Best parameters set:\n",
      "\tclf__max_depth: 25\n",
      "\tclf__min_samples_leaf: 1\n",
      "\tclf__min_samples_split: 1\n",
      "\tclf__n_estimators: 50\n",
      "Accuracy: 0.901146131805\n",
      "             precision    recall  f1-score   support\n",
      "\n",
      "          0       0.93      0.78      0.85        18\n",
      "          1       0.93      0.44      0.60        57\n",
      "          2       0.89      0.99      0.94       280\n",
      "          3       0.96      0.66      0.78        82\n",
      "          4       0.89      0.99      0.94       261\n",
      "\n",
      "avg / total       0.91      0.90      0.89       698\n",
      "\n"
     ]
    }
   ],
   "source": [
    "\n",
    "pipeline2 = Pipeline([\n",
    "('clf', RandomForestClassifier(criterion='entropy'))\n",
    "])\n",
    "\n",
    "parameters = {\n",
    "    'clf__n_estimators': (5, 25, 50, 100),\n",
    "    'clf__max_depth': (5, 25 , 50),\n",
    "    'clf__min_samples_split': (1, 5, 10),\n",
    "    'clf__min_samples_leaf': (1, 2, 3)\n",
    "}\n",
    "\n",
    "grid_search = GridSearchCV(pipeline2, parameters, n_jobs=-1, verbose=1, scoring='accuracy', cv=3)\n",
    "\n",
    "grid_search.fit(X_train, y_train)\n",
    "\n",
    "print 'Best score: %0.3f' % grid_search.best_score_\n",
    "\n",
    "print 'Best parameters set:'\n",
    "best_parameters = grid_search.best_estimator_.get_params()\n",
    "\n",
    "for param_name in sorted(parameters.keys()):\n",
    "    print '\\t%s: %r' % (param_name, best_parameters[param_name])\n",
    "\n",
    "predictions = grid_search.predict(X_test)\n",
    "print 'Accuracy:', accuracy_score(y_test, predictions)\n",
    "print classification_report(y_test, predictions)\n",
    "    "
   ]
  },
  {
   "cell_type": "markdown",
   "metadata": {},
   "source": [
    "# Naive Bayes accuracy and time elapsed caculation\n"
   ]
  },
  {
   "cell_type": "code",
   "execution_count": 76,
   "metadata": {
    "collapsed": false
   },
   "outputs": [
    {
     "name": "stdout",
     "output_type": "stream",
     "text": [
      "NaiveBayes\n",
      "Acurracy:  0.385386819484\n",
      "time elapsed:  0.0239999294281\n"
     ]
    }
   ],
   "source": [
    "t4=time()\n",
    "print \"NaiveBayes\"\n",
    "nb = BernoulliNB()\n",
    "clf_nb=nb.fit(X_train,y_train)\n",
    "print \"Acurracy: \", clf_nb.score(X_test,y_test)\n",
    "t5=time()\n",
    "print \"time elapsed: \", t5-t4"
   ]
  },
  {
   "cell_type": "code",
   "execution_count": 77,
   "metadata": {
    "collapsed": false
   },
   "outputs": [
    {
     "name": "stdout",
     "output_type": "stream",
     "text": [
      "cross result========\n",
      "[ 0.49287749  0.7277937   0.64756447  0.68678161  0.5433526 ]\n",
      "0.619673973884\n",
      "time elapsed:  0.963999986649\n",
      "\n",
      "\n"
     ]
    }
   ],
   "source": [
    "tt4=time()\n",
    "print \"cross result========\"\n",
    "scores = cross_validation.cross_val_score(dt, X,y, cv=5)\n",
    "print scores\n",
    "print scores.mean()\n",
    "tt5=time()\n",
    "print \"time elapsed: \", tt5-tt4\n",
    "print \"\\n\""
   ]
  },
  {
   "cell_type": "markdown",
   "metadata": {},
   "source": [
    "# KNN accuracy and time elapsed caculation"
   ]
  },
  {
   "cell_type": "code",
   "execution_count": 78,
   "metadata": {
    "collapsed": false
   },
   "outputs": [
    {
     "name": "stdout",
     "output_type": "stream",
     "text": [
      "KNN\n",
      "Acurracy:  0.843839541547\n",
      "time elapsed:  0.063000202179\n"
     ]
    }
   ],
   "source": [
    "t6=time()\n",
    "print \"KNN\"\n",
    "# knn = KNeighborsClassifier(n_neighbors=3)\n",
    "knn = KNeighborsClassifier()\n",
    "clf_knn=knn.fit(X_train, y_train)\n",
    "print \"Acurracy: \", clf_knn.score(X_test,y_test) \n",
    "t7=time()\n",
    "print \"time elapsed: \", t7-t6"
   ]
  },
  {
   "cell_type": "code",
   "execution_count": 79,
   "metadata": {
    "collapsed": false
   },
   "outputs": [
    {
     "name": "stdout",
     "output_type": "stream",
     "text": [
      "cross result========\n",
      "[ 0.49287749  0.7277937   0.64756447  0.68678161  0.5433526 ]\n",
      "0.619673973884\n",
      "time elapsed:  0.888999938965\n",
      "\n",
      "\n"
     ]
    }
   ],
   "source": [
    "tt6=time()\n",
    "print \"cross result========\"\n",
    "scores = cross_validation.cross_val_score(dt, X,y, cv=5)\n",
    "print scores\n",
    "print scores.mean()\n",
    "tt7=time()\n",
    "print \"time elapsed: \", tt7-tt6\n",
    "print \"\\n\""
   ]
  },
  {
   "cell_type": "markdown",
   "metadata": {},
   "source": [
    "# SVM accuracy and time elapsed caculation"
   ]
  },
  {
   "cell_type": "code",
   "execution_count": 80,
   "metadata": {
    "collapsed": false
   },
   "outputs": [
    {
     "name": "stdout",
     "output_type": "stream",
     "text": [
      "SVM\n",
      "Acurracy:  0.753581661891\n",
      "time elapsed:  0.262000083923\n"
     ]
    }
   ],
   "source": [
    "t7=time()\n",
    "print \"SVM\"\n",
    "\n",
    "svc = SVC()\n",
    "clf_svc=svc.fit(X_train, y_train)\n",
    "print \"Acurracy: \", clf_svc.score(X_test,y_test) \n",
    "t8=time()\n",
    "print \"time elapsed: \", t8-t7"
   ]
  },
  {
   "cell_type": "code",
   "execution_count": 81,
   "metadata": {
    "collapsed": false
   },
   "outputs": [
    {
     "name": "stdout",
     "output_type": "stream",
     "text": [
      "cross result========\n",
      "[ 0.49287749  0.7277937   0.64756447  0.68678161  0.5433526 ]\n",
      "0.619673973884\n",
      "time elapsed:  7.63800001144\n",
      "\n",
      "\n"
     ]
    }
   ],
   "source": [
    "tt7=time()\n",
    "print \"cross result========\"\n",
    "scores = cross_validation.cross_val_score(dt, X,y, cv=5)\n",
    "print scores\n",
    "print scores.mean()\n",
    "tt8=time()\n",
    "print \"time elapsed: \", tt7-tt6\n",
    "print \"\\n\""
   ]
  },
  {
   "cell_type": "code",
   "execution_count": 82,
   "metadata": {
    "collapsed": false
   },
   "outputs": [
    {
     "name": "stdout",
     "output_type": "stream",
     "text": [
      "Fitting 3 folds for each of 4 candidates, totalling 12 fits\n",
      "Best score: 0.779\n",
      "Best parameters set:\n",
      "\tC: 10\n",
      "\tkernel: 'linear'\n",
      "             precision    recall  f1-score   support\n",
      "\n",
      "          0       1.00      0.22      0.36        18\n",
      "          1       0.32      0.19      0.24        57\n",
      "          2       0.84      0.98      0.91       280\n",
      "          3       0.76      0.27      0.40        82\n",
      "          4       0.79      0.92      0.85       261\n",
      "\n",
      "avg / total       0.77      0.79      0.76       698\n",
      "\n"
     ]
    },
    {
     "name": "stderr",
     "output_type": "stream",
     "text": [
      "[Parallel(n_jobs=-1)]: Done  12 out of  12 | elapsed:   19.0s finished\n"
     ]
    }
   ],
   "source": [
    "from sklearn.svm import SVC\n",
    "from sklearn.cross_validation import cross_val_score\n",
    "from sklearn.pipeline import Pipeline\n",
    "from sklearn import grid_search\n",
    "\n",
    "svc = SVC()\n",
    "\n",
    "parameters = {'kernel':('linear', 'rbf'), 'C':[1, 10]}\n",
    "\n",
    "grid = grid_search.GridSearchCV(svc, parameters, n_jobs=-1, verbose=1, scoring='accuracy')\n",
    "\n",
    "\n",
    "grid.fit(X_train, y_train)\n",
    "\n",
    "print 'Best score: %0.3f' % grid.best_score_\n",
    "\n",
    "print 'Best parameters set:'\n",
    "best_parameters = grid.best_estimator_.get_params()\n",
    "\n",
    "for param_name in sorted(parameters.keys()):\n",
    "    print '\\t%s: %r' % (param_name, best_parameters[param_name])\n",
    "    \n",
    "predictions = grid.predict(X_test)\n",
    "print classification_report(y_test, predictions)"
   ]
  },
  {
   "cell_type": "code",
   "execution_count": 83,
   "metadata": {
    "collapsed": false
   },
   "outputs": [
    {
     "name": "stderr",
     "output_type": "stream",
     "text": [
      "[Parallel(n_jobs=-1)]: Done  34 tasks      | elapsed:   17.6s\n",
      "[Parallel(n_jobs=-1)]: Done  90 out of  90 | elapsed:   18.7s finished\n"
     ]
    },
    {
     "name": "stdout",
     "output_type": "stream",
     "text": [
      "Fitting 3 folds for each of 30 candidates, totalling 90 fits\n",
      "Best score: 0.879\n",
      "Best parameters set:\n",
      "\tclf__C: 30\n",
      "\tclf__gamma: 1\n",
      "             precision    recall  f1-score   support\n",
      "\n",
      "          0       0.89      0.89      0.89        18\n",
      "          1       0.55      0.63      0.59        57\n",
      "          2       0.94      0.96      0.95       280\n",
      "          3       0.85      0.77      0.81        82\n",
      "          4       0.93      0.91      0.92       261\n",
      "\n",
      "avg / total       0.89      0.89      0.89       698\n",
      "\n"
     ]
    }
   ],
   "source": [
    "pipeline = Pipeline([\n",
    "    ('clf', SVC(kernel='rbf', gamma=0.01, C=100))\n",
    "])\n",
    "\n",
    "parameters = {\n",
    "    'clf__gamma': (0.01, 0.03, 0.1, 0.3, 1),\n",
    "    'clf__C': (0.1, 0.3, 1, 3, 10, 30),\n",
    "}\n",
    "\n",
    "grid_search = GridSearchCV(pipeline, parameters, n_jobs=-1, verbose=1, scoring='accuracy')\n",
    "\n",
    "grid_search.fit(X_train, y_train)\n",
    "\n",
    "print 'Best score: %0.3f' % grid_search.best_score_\n",
    "\n",
    "print 'Best parameters set:'\n",
    "best_parameters = grid_search.best_estimator_.get_params()\n",
    "\n",
    "for param_name in sorted(parameters.keys()):\n",
    "    print '\\t%s: %r' % (param_name, best_parameters[param_name])\n",
    "    \n",
    "predictions = grid_search.predict(X_test)\n",
    "print classification_report(y_test, predictions)"
   ]
  },
  {
   "cell_type": "markdown",
   "metadata": {},
   "source": [
    "# Ensemble Learning"
   ]
  },
  {
   "cell_type": "code",
   "execution_count": 84,
   "metadata": {
    "collapsed": true
   },
   "outputs": [],
   "source": [
    "from sklearn.base import BaseEstimator\n",
    "from sklearn.base import ClassifierMixin\n",
    "from sklearn.preprocessing import LabelEncoder\n",
    "from sklearn.externals import six\n",
    "from sklearn.base import clone\n",
    "from sklearn.pipeline import _name_estimators\n",
    "import numpy as np\n",
    "import operator\n",
    "\n",
    "\n",
    "class MajorityVoteClassifier(BaseEstimator, \n",
    "                             ClassifierMixin):\n",
    "    \"\"\" A majority vote ensemble classifier\n",
    "\n",
    "    Parameters\n",
    "    ----------\n",
    "    classifiers : array-like, shape = [n_classifiers]\n",
    "      Different classifiers for the ensemble\n",
    "\n",
    "    vote : str, {'classlabel', 'probability'} (default='label')\n",
    "      If 'classlabel' the prediction is based on the argmax of\n",
    "        class labels. Else if 'probability', the argmax of\n",
    "        the sum of probabilities is used to predict the class label\n",
    "        (recommended for calibrated classifiers).\n",
    "\n",
    "    weights : array-like, shape = [n_classifiers], optional (default=None)\n",
    "      If a list of `int` or `float` values are provided, the classifiers\n",
    "      are weighted by importance; Uses uniform weights if `weights=None`.\n",
    "\n",
    "    \"\"\"\n",
    "    def __init__(self, classifiers, vote='classlabel', weights=None):\n",
    "\n",
    "        self.classifiers = classifiers\n",
    "        self.named_classifiers = {key: value for key, value\n",
    "                                  in _name_estimators(classifiers)}\n",
    "        self.vote = vote\n",
    "        self.weights = weights\n",
    "\n",
    "    def fit(self, X, y):\n",
    "        \"\"\" Fit classifiers.\n",
    "\n",
    "        Parameters\n",
    "        ----------\n",
    "        X : {array-like, sparse matrix}, shape = [n_samples, n_features]\n",
    "            Matrix of training samples.\n",
    "\n",
    "        y : array-like, shape = [n_samples]\n",
    "            Vector of target class labels.\n",
    "\n",
    "        Returns\n",
    "        -------\n",
    "        self : object\n",
    "\n",
    "        \"\"\"\n",
    "        if self.vote not in ('probability', 'classlabel'):\n",
    "            raise ValueError(\"vote must be 'probability' or 'classlabel'\"\n",
    "                             \"; got (vote=%r)\"\n",
    "                             % self.vote)\n",
    "\n",
    "        if self.weights and len(self.weights) != len(self.classifiers):\n",
    "            raise ValueError('Number of classifiers and weights must be equal'\n",
    "                             '; got %d weights, %d classifiers'\n",
    "                             % (len(self.weights), len(self.classifiers)))\n",
    "\n",
    "        # Use LabelEncoder to ensure class labels start with 0, which\n",
    "        # is important for np.argmax call in self.predict\n",
    "        self.lablenc_ = LabelEncoder()\n",
    "        self.lablenc_.fit(y)\n",
    "        self.classes_ = self.lablenc_.classes_\n",
    "        self.classifiers_ = []\n",
    "        for clf in self.classifiers:\n",
    "            fitted_clf = clone(clf).fit(X, self.lablenc_.transform(y))\n",
    "            self.classifiers_.append(fitted_clf)\n",
    "        return self\n",
    "\n",
    "    def predict(self, X):\n",
    "        \"\"\" Predict class labels for X.\n",
    "\n",
    "        Parameters\n",
    "        ----------\n",
    "        X : {array-like, sparse matrix}, shape = [n_samples, n_features]\n",
    "            Matrix of training samples.\n",
    "\n",
    "        Returns\n",
    "        ----------\n",
    "        maj_vote : array-like, shape = [n_samples]\n",
    "            Predicted class labels.\n",
    "            \n",
    "        \"\"\"\n",
    "        if self.vote == 'probability':\n",
    "            maj_vote = np.argmax(self.predict_proba(X), axis=1)\n",
    "        else:  # 'classlabel' vote\n",
    "\n",
    "            #  Collect results from clf.predict calls\n",
    "            predictions = np.asarray([clf.predict(X)\n",
    "                                      for clf in self.classifiers_]).T\n",
    "\n",
    "            maj_vote = np.apply_along_axis(\n",
    "                                      lambda x:\n",
    "                                      np.argmax(np.bincount(x,\n",
    "                                                weights=self.weights)),\n",
    "                                      axis=1,\n",
    "                                      arr=predictions)\n",
    "        maj_vote = self.lablenc_.inverse_transform(maj_vote)\n",
    "        return maj_vote\n",
    "\n",
    "    def predict_proba(self, X):\n",
    "        \"\"\" Predict class probabilities for X.\n",
    "\n",
    "        Parameters\n",
    "        ----------\n",
    "        X : {array-like, sparse matrix}, shape = [n_samples, n_features]\n",
    "            Training vectors, where n_samples is the number of samples and\n",
    "            n_features is the number of features.\n",
    "\n",
    "        Returns\n",
    "        ----------\n",
    "        avg_proba : array-like, shape = [n_samples, n_classes]\n",
    "            Weighted average probability for each class per sample.\n",
    "\n",
    "        \"\"\"\n",
    "        probas = np.asarray([clf.predict_proba(X)\n",
    "                             for clf in self.classifiers_])\n",
    "        avg_proba = np.average(probas, axis=0, weights=self.weights)\n",
    "        return avg_proba\n",
    "\n",
    "    def get_params(self, deep=True):\n",
    "        \"\"\" Get classifier parameter names for GridSearch\"\"\"\n",
    "        if not deep:\n",
    "            return super(MajorityVoteClassifier, self).get_params(deep=False)\n",
    "        else:\n",
    "            out = self.named_classifiers.copy()\n",
    "            for name, step in six.iteritems(self.named_classifiers):\n",
    "                for key, value in six.iteritems(step.get_params(deep=True)):\n",
    "                    out['%s__%s' % (name, key)] = value\n",
    "            return out"
   ]
  },
  {
   "cell_type": "code",
   "execution_count": 109,
   "metadata": {
    "collapsed": false
   },
   "outputs": [
    {
     "name": "stdout",
     "output_type": "stream",
     "text": [
      "10-fold cross validation:\n",
      "\n",
      "Accuracy: 0.74 (+/- 0.02) [Logistic Regression]\n",
      "Accuracy: 0.66 (+/- 0.02) [Decision Tree]\n",
      "Accuracy: 0.86 (+/- 0.03) [KNN]\n"
     ]
    }
   ],
   "source": [
    "from sklearn.cross_validation import cross_val_score\n",
    "from sklearn.linear_model import LogisticRegression\n",
    "from sklearn.tree import DecisionTreeClassifier\n",
    "from sklearn.neighbors import KNeighborsClassifier \n",
    "from sklearn.pipeline import Pipeline\n",
    "import numpy as np\n",
    "from sklearn.preprocessing import StandardScaler\n",
    "\n",
    "clf1 = LogisticRegression(penalty='l2', \n",
    "                          C=0.001, \n",
    "                          random_state=0)\n",
    "\n",
    "clf2 = DecisionTreeClassifier(max_depth=1, \n",
    "                              criterion='entropy', \n",
    "                              random_state=0)\n",
    "\n",
    "clf3 = KNeighborsClassifier(n_neighbors=1, \n",
    "                            p=2, \n",
    "                            metric='minkowski')\n",
    "\n",
    "pipe1 = Pipeline([['sc', StandardScaler()],\n",
    "                  ['clf', clf1]])\n",
    "pipe3 = Pipeline([['sc', StandardScaler()],\n",
    "                  ['clf', clf3]])\n",
    "\n",
    "clf_labels = ['Logistic Regression', 'Decision Tree', 'KNN']\n",
    "\n",
    "print('10-fold cross validation:\\n')\n",
    "for clf, label in zip([pipe1, clf2, pipe3], clf_labels):\n",
    "    scores = cross_val_score(estimator=clf, \n",
    "                             X=X_train, \n",
    "                             y=y_train, \n",
    "                             cv=10, \n",
    "                             scoring='accuracy')\n",
    "    print(\"Accuracy: %0.2f (+/- %0.2f) [%s]\" \n",
    "               % (scores.mean(), scores.std(), label))\n"
   ]
  },
  {
   "cell_type": "code",
   "execution_count": 110,
   "metadata": {
    "collapsed": false
   },
   "outputs": [
    {
     "name": "stdout",
     "output_type": "stream",
     "text": [
      "Accuracy: 0.74 (+/- 0.02) [Logistic Regression]\n",
      "Accuracy: 0.66 (+/- 0.02) [Decision Tree]\n",
      "Accuracy: 0.86 (+/- 0.03) [KNN]\n",
      "Accuracy: 0.76 (+/- 0.02) [Majority Voting]\n"
     ]
    }
   ],
   "source": [
    "# Majority Rule (hard) Voting\n",
    "\n",
    "mv_clf = MajorityVoteClassifier(\n",
    "                classifiers=[pipe1, clf2, pipe3])\n",
    "\n",
    "clf_labels += ['Majority Voting']\n",
    "all_clf = [pipe1, clf2, pipe3, mv_clf]\n",
    "\n",
    "for clf, label in zip(all_clf, clf_labels):\n",
    "    scores = cross_val_score(estimator=clf, \n",
    "                             X=X_train, \n",
    "                             y=y_train, \n",
    "                             cv=10, \n",
    "                             scoring='accuracy')\n",
    "    print(\"Accuracy: %0.2f (+/- %0.2f) [%s]\" \n",
    "               % (scores.mean(), scores.std(), label))"
   ]
  },
  {
   "cell_type": "code",
   "execution_count": 111,
   "metadata": {
    "collapsed": false
   },
   "outputs": [
    {
     "data": {
      "text/plain": [
       "{'decisiontreeclassifier': DecisionTreeClassifier(class_weight=None, criterion='entropy', max_depth=1,\n",
       "             max_features=None, max_leaf_nodes=None, min_samples_leaf=1,\n",
       "             min_samples_split=2, min_weight_fraction_leaf=0.0,\n",
       "             presort=False, random_state=0, splitter='best'),\n",
       " 'decisiontreeclassifier__class_weight': None,\n",
       " 'decisiontreeclassifier__criterion': 'entropy',\n",
       " 'decisiontreeclassifier__max_depth': 1,\n",
       " 'decisiontreeclassifier__max_features': None,\n",
       " 'decisiontreeclassifier__max_leaf_nodes': None,\n",
       " 'decisiontreeclassifier__min_samples_leaf': 1,\n",
       " 'decisiontreeclassifier__min_samples_split': 2,\n",
       " 'decisiontreeclassifier__min_weight_fraction_leaf': 0.0,\n",
       " 'decisiontreeclassifier__presort': False,\n",
       " 'decisiontreeclassifier__random_state': 0,\n",
       " 'decisiontreeclassifier__splitter': 'best',\n",
       " 'pipeline-1': Pipeline(steps=[['sc', StandardScaler(copy=True, with_mean=True, with_std=True)], ['clf', LogisticRegression(C=0.001, class_weight=None, dual=False, fit_intercept=True,\n",
       "           intercept_scaling=1, max_iter=100, multi_class='ovr', n_jobs=1,\n",
       "           penalty='l2', random_state=0, solver='liblinear', tol=0.0001,\n",
       "           verbose=0, warm_start=False)]]),\n",
       " 'pipeline-1__clf': LogisticRegression(C=0.001, class_weight=None, dual=False, fit_intercept=True,\n",
       "           intercept_scaling=1, max_iter=100, multi_class='ovr', n_jobs=1,\n",
       "           penalty='l2', random_state=0, solver='liblinear', tol=0.0001,\n",
       "           verbose=0, warm_start=False),\n",
       " 'pipeline-1__clf__C': 0.001,\n",
       " 'pipeline-1__clf__class_weight': None,\n",
       " 'pipeline-1__clf__dual': False,\n",
       " 'pipeline-1__clf__fit_intercept': True,\n",
       " 'pipeline-1__clf__intercept_scaling': 1,\n",
       " 'pipeline-1__clf__max_iter': 100,\n",
       " 'pipeline-1__clf__multi_class': 'ovr',\n",
       " 'pipeline-1__clf__n_jobs': 1,\n",
       " 'pipeline-1__clf__penalty': 'l2',\n",
       " 'pipeline-1__clf__random_state': 0,\n",
       " 'pipeline-1__clf__solver': 'liblinear',\n",
       " 'pipeline-1__clf__tol': 0.0001,\n",
       " 'pipeline-1__clf__verbose': 0,\n",
       " 'pipeline-1__clf__warm_start': False,\n",
       " 'pipeline-1__sc': StandardScaler(copy=True, with_mean=True, with_std=True),\n",
       " 'pipeline-1__sc__copy': True,\n",
       " 'pipeline-1__sc__with_mean': True,\n",
       " 'pipeline-1__sc__with_std': True,\n",
       " 'pipeline-1__steps': [['sc',\n",
       "   StandardScaler(copy=True, with_mean=True, with_std=True)],\n",
       "  ['clf',\n",
       "   LogisticRegression(C=0.001, class_weight=None, dual=False, fit_intercept=True,\n",
       "             intercept_scaling=1, max_iter=100, multi_class='ovr', n_jobs=1,\n",
       "             penalty='l2', random_state=0, solver='liblinear', tol=0.0001,\n",
       "             verbose=0, warm_start=False)]],\n",
       " 'pipeline-2': Pipeline(steps=[['sc', StandardScaler(copy=True, with_mean=True, with_std=True)], ['clf', KNeighborsClassifier(algorithm='auto', leaf_size=30, metric='minkowski',\n",
       "            metric_params=None, n_jobs=1, n_neighbors=1, p=2,\n",
       "            weights='uniform')]]),\n",
       " 'pipeline-2__clf': KNeighborsClassifier(algorithm='auto', leaf_size=30, metric='minkowski',\n",
       "            metric_params=None, n_jobs=1, n_neighbors=1, p=2,\n",
       "            weights='uniform'),\n",
       " 'pipeline-2__clf__algorithm': 'auto',\n",
       " 'pipeline-2__clf__leaf_size': 30,\n",
       " 'pipeline-2__clf__metric': 'minkowski',\n",
       " 'pipeline-2__clf__metric_params': None,\n",
       " 'pipeline-2__clf__n_jobs': 1,\n",
       " 'pipeline-2__clf__n_neighbors': 1,\n",
       " 'pipeline-2__clf__p': 2,\n",
       " 'pipeline-2__clf__weights': 'uniform',\n",
       " 'pipeline-2__sc': StandardScaler(copy=True, with_mean=True, with_std=True),\n",
       " 'pipeline-2__sc__copy': True,\n",
       " 'pipeline-2__sc__with_mean': True,\n",
       " 'pipeline-2__sc__with_std': True,\n",
       " 'pipeline-2__steps': [['sc',\n",
       "   StandardScaler(copy=True, with_mean=True, with_std=True)],\n",
       "  ['clf',\n",
       "   KNeighborsClassifier(algorithm='auto', leaf_size=30, metric='minkowski',\n",
       "              metric_params=None, n_jobs=1, n_neighbors=1, p=2,\n",
       "              weights='uniform')]]}"
      ]
     },
     "execution_count": 111,
     "metadata": {},
     "output_type": "execute_result"
    }
   ],
   "source": [
    "mv_clf.get_params()"
   ]
  },
  {
   "cell_type": "code",
   "execution_count": 112,
   "metadata": {
    "collapsed": false
   },
   "outputs": [
    {
     "name": "stdout",
     "output_type": "stream",
     "text": [
      "0.757+/-0.01 {'pipeline-1__clf__C': 0.001, 'decisiontreeclassifier__max_depth': 1}\n",
      "0.802+/-0.01 {'pipeline-1__clf__C': 0.1, 'decisiontreeclassifier__max_depth': 1}\n",
      "0.836+/-0.01 {'pipeline-1__clf__C': 100.0, 'decisiontreeclassifier__max_depth': 1}\n",
      "0.782+/-0.01 {'pipeline-1__clf__C': 0.001, 'decisiontreeclassifier__max_depth': 2}\n",
      "0.815+/-0.01 {'pipeline-1__clf__C': 0.1, 'decisiontreeclassifier__max_depth': 2}\n",
      "0.845+/-0.01 {'pipeline-1__clf__C': 100.0, 'decisiontreeclassifier__max_depth': 2}\n"
     ]
    }
   ],
   "source": [
    "from sklearn.grid_search import GridSearchCV\n",
    "\n",
    "params = {'decisiontreeclassifier__max_depth': [1, 2],\n",
    "          'pipeline-1__clf__C': [0.001, 0.1, 100.0]}\n",
    "\n",
    "grid = GridSearchCV(estimator=mv_clf, \n",
    "                    param_grid=params, \n",
    "                    cv=10, \n",
    "                    scoring='accuracy')\n",
    "grid.fit(X_train, y_train)\n",
    "\n",
    "for params, mean_score, scores in grid.grid_scores_:\n",
    "    print(\"%0.3f+/-%0.2f %r\"\n",
    "            % (mean_score, scores.std() / 2, params))"
   ]
  },
  {
   "cell_type": "code",
   "execution_count": 113,
   "metadata": {
    "collapsed": false
   },
   "outputs": [
    {
     "name": "stdout",
     "output_type": "stream",
     "text": [
      "Best parameters: {'pipeline-1__clf__C': 100.0, 'decisiontreeclassifier__max_depth': 2}\n",
      "Accuracy: 0.84\n"
     ]
    }
   ],
   "source": [
    "print('Best parameters: %s' % grid.best_params_)\n",
    "print('Accuracy: %.2f' % grid.best_score_)"
   ]
  },
  {
   "cell_type": "markdown",
   "metadata": {},
   "source": [
    "## Bagging -- Building an ensemble of classifiers from bootstrap samples"
   ]
  },
  {
   "cell_type": "code",
   "execution_count": 114,
   "metadata": {
    "collapsed": false
   },
   "outputs": [
    {
     "name": "stdout",
     "output_type": "stream",
     "text": [
      "Decision tree train/test accuracies 1.000/0.842\n",
      "Bagging train/test accuracies 1.000/0.903\n"
     ]
    }
   ],
   "source": [
    "from sklearn.ensemble import BaggingClassifier\n",
    "from sklearn.tree import DecisionTreeClassifier\n",
    "\n",
    "tree = DecisionTreeClassifier(criterion='entropy', \n",
    "                              max_depth=None)\n",
    "\n",
    "bag = BaggingClassifier(base_estimator=tree,\n",
    "                        n_estimators=500, \n",
    "                        max_samples=1.0, \n",
    "                        max_features=1.0, \n",
    "                        bootstrap=True, \n",
    "                        bootstrap_features=False, \n",
    "                        n_jobs=1, \n",
    "                        random_state=1)\n",
    "\n",
    "from sklearn.metrics import accuracy_score\n",
    "\n",
    "tree = tree.fit(X_train, y_train)\n",
    "y_train_pred = tree.predict(X_train)\n",
    "y_test_pred = tree.predict(X_test)\n",
    "\n",
    "tree_train = accuracy_score(y_train, y_train_pred)\n",
    "tree_test = accuracy_score(y_test, y_test_pred)\n",
    "print('Decision tree train/test accuracies %.3f/%.3f'\n",
    "      % (tree_train, tree_test))\n",
    "\n",
    "bag = bag.fit(X_train, y_train)\n",
    "y_train_pred = bag.predict(X_train)\n",
    "y_test_pred = bag.predict(X_test)\n",
    "\n",
    "bag_train = accuracy_score(y_train, y_train_pred) \n",
    "bag_test = accuracy_score(y_test, y_test_pred) \n",
    "print('Bagging train/test accuracies %.3f/%.3f'\n",
    "      % (bag_train, bag_test))"
   ]
  },
  {
   "cell_type": "markdown",
   "metadata": {},
   "source": [
    "## Leveraging weak learners via adaptive boosting"
   ]
  },
  {
   "cell_type": "code",
   "execution_count": 115,
   "metadata": {
    "collapsed": false
   },
   "outputs": [
    {
     "name": "stdout",
     "output_type": "stream",
     "text": [
      "Decision tree train/test accuracies 0.665/0.672\n",
      "AdaBoost train/test accuracies 0.772/0.734\n"
     ]
    }
   ],
   "source": [
    "from sklearn.ensemble import AdaBoostClassifier\n",
    "\n",
    "tree = DecisionTreeClassifier(criterion='entropy', \n",
    "                              max_depth=1)\n",
    "\n",
    "ada = AdaBoostClassifier(base_estimator=tree,\n",
    "                         n_estimators=500, \n",
    "                         learning_rate=0.1,\n",
    "                         random_state=0)\n",
    "\n",
    "tree = tree.fit(X_train, y_train)\n",
    "y_train_pred = tree.predict(X_train)\n",
    "y_test_pred = tree.predict(X_test)\n",
    "\n",
    "tree_train = accuracy_score(y_train, y_train_pred)\n",
    "tree_test = accuracy_score(y_test, y_test_pred)\n",
    "print('Decision tree train/test accuracies %.3f/%.3f'\n",
    "      % (tree_train, tree_test))\n",
    "\n",
    "ada = ada.fit(X_train, y_train)\n",
    "y_train_pred = ada.predict(X_train)\n",
    "y_test_pred = ada.predict(X_test)\n",
    "\n",
    "ada_train = accuracy_score(y_train, y_train_pred) \n",
    "ada_test = accuracy_score(y_test, y_test_pred) \n",
    "print('AdaBoost train/test accuracies %.3f/%.3f'\n",
    "      % (ada_train, ada_test))"
   ]
  },
  {
   "cell_type": "markdown",
   "metadata": {
    "collapsed": true
   },
   "source": [
    "___"
   ]
  }
 ],
 "metadata": {
  "kernelspec": {
   "display_name": "Python 2",
   "language": "python",
   "name": "python2"
  },
  "language_info": {
   "codemirror_mode": {
    "name": "ipython",
    "version": 2
   },
   "file_extension": ".py",
   "mimetype": "text/x-python",
   "name": "python",
   "nbconvert_exporter": "python",
   "pygments_lexer": "ipython2",
   "version": "2.7.11"
  }
 },
 "nbformat": 4,
 "nbformat_minor": 0
}
